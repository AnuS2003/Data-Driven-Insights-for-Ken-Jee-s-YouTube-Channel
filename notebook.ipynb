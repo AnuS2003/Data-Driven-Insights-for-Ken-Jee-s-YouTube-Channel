{
 "cells": [
  {
   "cell_type": "markdown",
   "metadata": {},
   "source": [
    "<h4>Data-Driven Insights for Ken Jee's YouTube Channel</h4>\n",
    "<br/>\n",
    "This dataset consists the data from Nov 2017 - Jan 2022. Ken Jee has gathered some of this data via the YouTube API and the rest from his specific analytics.\n",
    "\n",
    "1) Aggregated Metrics By Video - This has all the topline metrics from my channel from its start (around 2015 to Jan 22 2022). I didn't post my first video until around\n",
    "2) Aggregated Metrics By Video with Country and Subscriber Status - This has the same data as aggregated metrics by video, but it includes dimensions for which country people are viewing from and if the viewers are subscribed to the channel or not.\n",
    "3) Video Performance Over Time - This has the daily data from each of my videos.\n",
    "4) All Comments - This is all of my comment data gathered from the YouTube API. I have anonymized the users so don't worry about your name showing up!\n",
    "<br /><br />\n",
    "The profitability of Ken Jee's YouTube channel serves as a key metric, reflecting the effectiveness of strategies aimed at maximizing revenue generation through factors like viewership, engagement, and subscriber growth.<br /><br />\n",
    "Analysis <br />\n",
    "1. Videos generated the highest revenue in terms of RPM (Revenue per thousand impressions) and CPM (Cost per thousand impressions)<br />\n",
    "2. Top 5 countries by video likes added and average view percentage<br />\n",
    "3. K-means clustering to analyze the factors affecting Ken Jee's YouTube channel<br />\n",
    "4. Top positive/negative words/sentences in comments<br />\n",
    "5. Factors contributing to fluctuations in the profitability of Ken Jee's YouTube channel over time"
   ]
  },
  {
   "cell_type": "code",
   "execution_count": 1,
   "metadata": {},
   "outputs": [],
   "source": [
    "import pandas as pd\n",
    "import numpy as np\n",
    "import plotly.graph_objects as go\n",
    "import plotly.express as px\n",
    "import datetime as dt"
   ]
  },
  {
   "cell_type": "markdown",
   "metadata": {},
   "source": [
    "<h5 >Load The Data</h5>"
   ]
  },
  {
   "cell_type": "code",
   "execution_count": 2,
   "metadata": {},
   "outputs": [],
   "source": [
    "df_agg_video = pd.read_csv(r'C:\\Users\\Anupama S\\Desktop\\portfolio\\data\\Aggregated_Metrics_By_Video.csv').iloc[1:,:]\n",
    "df_agg_subscription = pd.read_csv(r'C:\\Users\\Anupama S\\Desktop\\portfolio\\data\\Aggregated_Metrics_By_Country_And_Subscriber_Status.csv')\n",
    "df_comments = pd.read_csv(r'C:\\Users\\Anupama S\\Desktop\\portfolio\\data\\All_Comments_Final.csv')\n",
    "df_video_over_time = pd.read_csv(r'C:\\Users\\Anupama S\\Desktop\\portfolio\\data\\Video_Performance_Over_Time.csv')"
   ]
  },
  {
   "cell_type": "markdown",
   "metadata": {},
   "source": [
    "<h5>Exploratory Data Analysis</h5>"
   ]
  },
  {
   "cell_type": "code",
   "execution_count": 3,
   "metadata": {},
   "outputs": [
    {
     "data": {
      "text/html": [
       "<div>\n",
       "<style scoped>\n",
       "    .dataframe tbody tr th:only-of-type {\n",
       "        vertical-align: middle;\n",
       "    }\n",
       "\n",
       "    .dataframe tbody tr th {\n",
       "        vertical-align: top;\n",
       "    }\n",
       "\n",
       "    .dataframe thead th {\n",
       "        text-align: right;\n",
       "    }\n",
       "</style>\n",
       "<table border=\"1\" class=\"dataframe\">\n",
       "  <thead>\n",
       "    <tr style=\"text-align: right;\">\n",
       "      <th></th>\n",
       "      <th>Video</th>\n",
       "      <th>Video title</th>\n",
       "      <th>Video pub­lish time</th>\n",
       "      <th>Com­ments ad­ded</th>\n",
       "      <th>Shares</th>\n",
       "      <th>Dis­likes</th>\n",
       "      <th>Likes</th>\n",
       "      <th>Sub­scribers lost</th>\n",
       "      <th>Sub­scribers gained</th>\n",
       "      <th>RPM (USD)</th>\n",
       "      <th>CPM (USD)</th>\n",
       "      <th>Av­er­age per­cent­age viewed (%)</th>\n",
       "      <th>Av­er­age view dur­a­tion</th>\n",
       "      <th>Views</th>\n",
       "      <th>Watch time (hours)</th>\n",
       "      <th>Sub­scribers</th>\n",
       "      <th>Your es­tim­ated rev­en­ue (USD)</th>\n",
       "      <th>Im­pres­sions</th>\n",
       "      <th>Im­pres­sions click-through rate (%)</th>\n",
       "    </tr>\n",
       "  </thead>\n",
       "  <tbody>\n",
       "    <tr>\n",
       "      <th>1</th>\n",
       "      <td>4OZip0cgOho</td>\n",
       "      <td>How I Would Learn Data Science (If I Had to St...</td>\n",
       "      <td>May 8, 2020</td>\n",
       "      <td>907</td>\n",
       "      <td>9583</td>\n",
       "      <td>942</td>\n",
       "      <td>46903</td>\n",
       "      <td>451</td>\n",
       "      <td>46904</td>\n",
       "      <td>6.353</td>\n",
       "      <td>12.835</td>\n",
       "      <td>36.65</td>\n",
       "      <td>0:03:09</td>\n",
       "      <td>1253559</td>\n",
       "      <td>65850.7042</td>\n",
       "      <td>46453</td>\n",
       "      <td>7959.533</td>\n",
       "      <td>26498799</td>\n",
       "      <td>3.14</td>\n",
       "    </tr>\n",
       "    <tr>\n",
       "      <th>2</th>\n",
       "      <td>78LjdAAw0wA</td>\n",
       "      <td>100K Channel Update + AMA Stream!</td>\n",
       "      <td>Nov 12, 2020</td>\n",
       "      <td>412</td>\n",
       "      <td>4</td>\n",
       "      <td>4</td>\n",
       "      <td>130</td>\n",
       "      <td>15</td>\n",
       "      <td>12</td>\n",
       "      <td>2.668</td>\n",
       "      <td>6.259</td>\n",
       "      <td>6.26</td>\n",
       "      <td>0:05:14</td>\n",
       "      <td>2291</td>\n",
       "      <td>200.2966</td>\n",
       "      <td>-3</td>\n",
       "      <td>6.113</td>\n",
       "      <td>188318</td>\n",
       "      <td>0.72</td>\n",
       "    </tr>\n",
       "    <tr>\n",
       "      <th>3</th>\n",
       "      <td>hO_YKK_0Qck</td>\n",
       "      <td>Uber Driver to Machine Learning Engineer in 9 ...</td>\n",
       "      <td>Jul 16, 2020</td>\n",
       "      <td>402</td>\n",
       "      <td>152</td>\n",
       "      <td>15</td>\n",
       "      <td>881</td>\n",
       "      <td>9</td>\n",
       "      <td>198</td>\n",
       "      <td>9.516</td>\n",
       "      <td>11.695</td>\n",
       "      <td>15.12</td>\n",
       "      <td>0:10:21</td>\n",
       "      <td>21350</td>\n",
       "      <td>3687.3387</td>\n",
       "      <td>189</td>\n",
       "      <td>202.963</td>\n",
       "      <td>442334</td>\n",
       "      <td>2.53</td>\n",
       "    </tr>\n",
       "  </tbody>\n",
       "</table>\n",
       "</div>"
      ],
      "text/plain": [
       "         Video                                        Video title  \\\n",
       "1  4OZip0cgOho  How I Would Learn Data Science (If I Had to St...   \n",
       "2  78LjdAAw0wA                  100K Channel Update + AMA Stream!   \n",
       "3  hO_YKK_0Qck  Uber Driver to Machine Learning Engineer in 9 ...   \n",
       "\n",
       "  Video pub­lish time  Com­ments ad­ded  Shares  Dis­likes  Likes  \\\n",
       "1         May 8, 2020               907    9583        942  46903   \n",
       "2        Nov 12, 2020               412       4          4    130   \n",
       "3        Jul 16, 2020               402     152         15    881   \n",
       "\n",
       "   Sub­scribers lost  Sub­scribers gained  RPM (USD)  CPM (USD)  \\\n",
       "1                451                46904      6.353     12.835   \n",
       "2                 15                   12      2.668      6.259   \n",
       "3                  9                  198      9.516     11.695   \n",
       "\n",
       "   Av­er­age per­cent­age viewed (%) Av­er­age view dur­a­tion    Views  \\\n",
       "1                              36.65                   0:03:09  1253559   \n",
       "2                               6.26                   0:05:14     2291   \n",
       "3                              15.12                   0:10:21    21350   \n",
       "\n",
       "   Watch time (hours)  Sub­scribers  Your es­tim­ated rev­en­ue (USD)  \\\n",
       "1          65850.7042         46453                          7959.533   \n",
       "2            200.2966            -3                             6.113   \n",
       "3           3687.3387           189                           202.963   \n",
       "\n",
       "   Im­pres­sions  Im­pres­sions click-through rate (%)  \n",
       "1       26498799                                  3.14  \n",
       "2         188318                                  0.72  \n",
       "3         442334                                  2.53  "
      ]
     },
     "execution_count": 3,
     "metadata": {},
     "output_type": "execute_result"
    }
   ],
   "source": [
    "df_agg_video.head(3)"
   ]
  },
  {
   "cell_type": "code",
   "execution_count": 4,
   "metadata": {},
   "outputs": [
    {
     "data": {
      "text/html": [
       "<div>\n",
       "<style scoped>\n",
       "    .dataframe tbody tr th:only-of-type {\n",
       "        vertical-align: middle;\n",
       "    }\n",
       "\n",
       "    .dataframe tbody tr th {\n",
       "        vertical-align: top;\n",
       "    }\n",
       "\n",
       "    .dataframe thead th {\n",
       "        text-align: right;\n",
       "    }\n",
       "</style>\n",
       "<table border=\"1\" class=\"dataframe\">\n",
       "  <thead>\n",
       "    <tr style=\"text-align: right;\">\n",
       "      <th></th>\n",
       "      <th>Com­ments ad­ded</th>\n",
       "      <th>Shares</th>\n",
       "      <th>Dis­likes</th>\n",
       "      <th>Likes</th>\n",
       "      <th>Sub­scribers lost</th>\n",
       "      <th>Sub­scribers gained</th>\n",
       "      <th>RPM (USD)</th>\n",
       "      <th>CPM (USD)</th>\n",
       "      <th>Av­er­age per­cent­age viewed (%)</th>\n",
       "      <th>Views</th>\n",
       "      <th>Watch time (hours)</th>\n",
       "      <th>Sub­scribers</th>\n",
       "      <th>Your es­tim­ated rev­en­ue (USD)</th>\n",
       "      <th>Im­pres­sions</th>\n",
       "      <th>Im­pres­sions click-through rate (%)</th>\n",
       "    </tr>\n",
       "  </thead>\n",
       "  <tbody>\n",
       "    <tr>\n",
       "      <th>count</th>\n",
       "      <td>223.000000</td>\n",
       "      <td>223.000000</td>\n",
       "      <td>223.000000</td>\n",
       "      <td>223.000000</td>\n",
       "      <td>223.000000</td>\n",
       "      <td>223.000000</td>\n",
       "      <td>223.000000</td>\n",
       "      <td>221.000000</td>\n",
       "      <td>223.000000</td>\n",
       "      <td>2.230000e+02</td>\n",
       "      <td>223.000000</td>\n",
       "      <td>223.000000</td>\n",
       "      <td>223.000000</td>\n",
       "      <td>2.230000e+02</td>\n",
       "      <td>223.000000</td>\n",
       "    </tr>\n",
       "    <tr>\n",
       "      <th>mean</th>\n",
       "      <td>63.654709</td>\n",
       "      <td>177.753363</td>\n",
       "      <td>17.497758</td>\n",
       "      <td>1008.865471</td>\n",
       "      <td>13.260090</td>\n",
       "      <td>587.309417</td>\n",
       "      <td>4.438300</td>\n",
       "      <td>11.440303</td>\n",
       "      <td>34.120807</td>\n",
       "      <td>2.496860e+04</td>\n",
       "      <td>1424.201917</td>\n",
       "      <td>574.049327</td>\n",
       "      <td>130.348578</td>\n",
       "      <td>4.526904e+05</td>\n",
       "      <td>3.083812</td>\n",
       "    </tr>\n",
       "    <tr>\n",
       "      <th>std</th>\n",
       "      <td>91.559620</td>\n",
       "      <td>733.331174</td>\n",
       "      <td>69.578517</td>\n",
       "      <td>3577.895609</td>\n",
       "      <td>33.242009</td>\n",
       "      <td>3302.316610</td>\n",
       "      <td>1.792295</td>\n",
       "      <td>3.342147</td>\n",
       "      <td>15.144409</td>\n",
       "      <td>8.960956e+04</td>\n",
       "      <td>4804.353468</td>\n",
       "      <td>3270.679889</td>\n",
       "      <td>554.503516</td>\n",
       "      <td>1.864351e+06</td>\n",
       "      <td>1.674199</td>\n",
       "    </tr>\n",
       "    <tr>\n",
       "      <th>min</th>\n",
       "      <td>0.000000</td>\n",
       "      <td>0.000000</td>\n",
       "      <td>0.000000</td>\n",
       "      <td>1.000000</td>\n",
       "      <td>0.000000</td>\n",
       "      <td>0.000000</td>\n",
       "      <td>0.000000</td>\n",
       "      <td>5.439000</td>\n",
       "      <td>5.230000</td>\n",
       "      <td>6.000000e+01</td>\n",
       "      <td>1.068400</td>\n",
       "      <td>-21.000000</td>\n",
       "      <td>0.000000</td>\n",
       "      <td>3.650000e+02</td>\n",
       "      <td>0.490000</td>\n",
       "    </tr>\n",
       "    <tr>\n",
       "      <th>25%</th>\n",
       "      <td>18.000000</td>\n",
       "      <td>19.000000</td>\n",
       "      <td>1.000000</td>\n",
       "      <td>163.000000</td>\n",
       "      <td>2.000000</td>\n",
       "      <td>27.000000</td>\n",
       "      <td>3.219500</td>\n",
       "      <td>9.377000</td>\n",
       "      <td>23.515000</td>\n",
       "      <td>3.933000e+03</td>\n",
       "      <td>176.995550</td>\n",
       "      <td>19.500000</td>\n",
       "      <td>12.145500</td>\n",
       "      <td>9.894000e+04</td>\n",
       "      <td>1.920000</td>\n",
       "    </tr>\n",
       "    <tr>\n",
       "      <th>50%</th>\n",
       "      <td>37.000000</td>\n",
       "      <td>46.000000</td>\n",
       "      <td>4.000000</td>\n",
       "      <td>342.000000</td>\n",
       "      <td>7.000000</td>\n",
       "      <td>68.000000</td>\n",
       "      <td>4.334000</td>\n",
       "      <td>11.160000</td>\n",
       "      <td>35.260000</td>\n",
       "      <td>8.275000e+03</td>\n",
       "      <td>393.397300</td>\n",
       "      <td>62.000000</td>\n",
       "      <td>32.538000</td>\n",
       "      <td>1.541870e+05</td>\n",
       "      <td>2.890000</td>\n",
       "    </tr>\n",
       "    <tr>\n",
       "      <th>75%</th>\n",
       "      <td>66.000000</td>\n",
       "      <td>112.500000</td>\n",
       "      <td>11.000000</td>\n",
       "      <td>713.000000</td>\n",
       "      <td>14.000000</td>\n",
       "      <td>234.500000</td>\n",
       "      <td>5.382500</td>\n",
       "      <td>12.904000</td>\n",
       "      <td>43.485000</td>\n",
       "      <td>1.831800e+04</td>\n",
       "      <td>1128.712150</td>\n",
       "      <td>227.000000</td>\n",
       "      <td>93.901500</td>\n",
       "      <td>2.799850e+05</td>\n",
       "      <td>3.980000</td>\n",
       "    </tr>\n",
       "    <tr>\n",
       "      <th>max</th>\n",
       "      <td>907.000000</td>\n",
       "      <td>9583.000000</td>\n",
       "      <td>942.000000</td>\n",
       "      <td>46903.000000</td>\n",
       "      <td>451.000000</td>\n",
       "      <td>46904.000000</td>\n",
       "      <td>10.387000</td>\n",
       "      <td>37.786000</td>\n",
       "      <td>76.600000</td>\n",
       "      <td>1.253559e+06</td>\n",
       "      <td>65850.704200</td>\n",
       "      <td>46453.000000</td>\n",
       "      <td>7959.533000</td>\n",
       "      <td>2.649880e+07</td>\n",
       "      <td>11.510000</td>\n",
       "    </tr>\n",
       "  </tbody>\n",
       "</table>\n",
       "</div>"
      ],
      "text/plain": [
       "       Com­ments ad­ded       Shares   Dis­likes         Likes  \\\n",
       "count        223.000000   223.000000  223.000000    223.000000   \n",
       "mean          63.654709   177.753363   17.497758   1008.865471   \n",
       "std           91.559620   733.331174   69.578517   3577.895609   \n",
       "min            0.000000     0.000000    0.000000      1.000000   \n",
       "25%           18.000000    19.000000    1.000000    163.000000   \n",
       "50%           37.000000    46.000000    4.000000    342.000000   \n",
       "75%           66.000000   112.500000   11.000000    713.000000   \n",
       "max          907.000000  9583.000000  942.000000  46903.000000   \n",
       "\n",
       "       Sub­scribers lost  Sub­scribers gained   RPM (USD)   CPM (USD)  \\\n",
       "count         223.000000           223.000000  223.000000  221.000000   \n",
       "mean           13.260090           587.309417    4.438300   11.440303   \n",
       "std            33.242009          3302.316610    1.792295    3.342147   \n",
       "min             0.000000             0.000000    0.000000    5.439000   \n",
       "25%             2.000000            27.000000    3.219500    9.377000   \n",
       "50%             7.000000            68.000000    4.334000   11.160000   \n",
       "75%            14.000000           234.500000    5.382500   12.904000   \n",
       "max           451.000000         46904.000000   10.387000   37.786000   \n",
       "\n",
       "       Av­er­age per­cent­age viewed (%)         Views  Watch time (hours)  \\\n",
       "count                         223.000000  2.230000e+02          223.000000   \n",
       "mean                           34.120807  2.496860e+04         1424.201917   \n",
       "std                            15.144409  8.960956e+04         4804.353468   \n",
       "min                             5.230000  6.000000e+01            1.068400   \n",
       "25%                            23.515000  3.933000e+03          176.995550   \n",
       "50%                            35.260000  8.275000e+03          393.397300   \n",
       "75%                            43.485000  1.831800e+04         1128.712150   \n",
       "max                            76.600000  1.253559e+06        65850.704200   \n",
       "\n",
       "       Sub­scribers  Your es­tim­ated rev­en­ue (USD)  Im­pres­sions  \\\n",
       "count    223.000000                        223.000000   2.230000e+02   \n",
       "mean     574.049327                        130.348578   4.526904e+05   \n",
       "std     3270.679889                        554.503516   1.864351e+06   \n",
       "min      -21.000000                          0.000000   3.650000e+02   \n",
       "25%       19.500000                         12.145500   9.894000e+04   \n",
       "50%       62.000000                         32.538000   1.541870e+05   \n",
       "75%      227.000000                         93.901500   2.799850e+05   \n",
       "max    46453.000000                       7959.533000   2.649880e+07   \n",
       "\n",
       "       Im­pres­sions click-through rate (%)  \n",
       "count                            223.000000  \n",
       "mean                               3.083812  \n",
       "std                                1.674199  \n",
       "min                                0.490000  \n",
       "25%                                1.920000  \n",
       "50%                                2.890000  \n",
       "75%                                3.980000  \n",
       "max                               11.510000  "
      ]
     },
     "execution_count": 4,
     "metadata": {},
     "output_type": "execute_result"
    }
   ],
   "source": [
    "df_agg_video.describe()"
   ]
  },
  {
   "cell_type": "code",
   "execution_count": 5,
   "metadata": {},
   "outputs": [
    {
     "name": "stdout",
     "output_type": "stream",
     "text": [
      "<class 'pandas.core.frame.DataFrame'>\n",
      "RangeIndex: 223 entries, 1 to 223\n",
      "Data columns (total 19 columns):\n",
      " #   Column                                Non-Null Count  Dtype  \n",
      "---  ------                                --------------  -----  \n",
      " 0   Video                                 223 non-null    object \n",
      " 1   Video title                           223 non-null    object \n",
      " 2   Video pub­lish time                   223 non-null    object \n",
      " 3   Com­ments ad­ded                      223 non-null    int64  \n",
      " 4   Shares                                223 non-null    int64  \n",
      " 5   Dis­likes                             223 non-null    int64  \n",
      " 6   Likes                                 223 non-null    int64  \n",
      " 7   Sub­scribers lost                     223 non-null    int64  \n",
      " 8   Sub­scribers gained                   223 non-null    int64  \n",
      " 9   RPM (USD)                             223 non-null    float64\n",
      " 10  CPM (USD)                             221 non-null    float64\n",
      " 11  Av­er­age per­cent­age viewed (%)     223 non-null    float64\n",
      " 12  Av­er­age view dur­a­tion             223 non-null    object \n",
      " 13  Views                                 223 non-null    int64  \n",
      " 14  Watch time (hours)                    223 non-null    float64\n",
      " 15  Sub­scribers                          223 non-null    int64  \n",
      " 16  Your es­tim­ated rev­en­ue (USD)      223 non-null    float64\n",
      " 17  Im­pres­sions                         223 non-null    int64  \n",
      " 18  Im­pres­sions click-through rate (%)  223 non-null    float64\n",
      "dtypes: float64(6), int64(9), object(4)\n",
      "memory usage: 33.2+ KB\n"
     ]
    }
   ],
   "source": [
    "df_agg_video.info()"
   ]
  },
  {
   "cell_type": "code",
   "execution_count": 6,
   "metadata": {},
   "outputs": [
    {
     "data": {
      "text/html": [
       "<div>\n",
       "<style scoped>\n",
       "    .dataframe tbody tr th:only-of-type {\n",
       "        vertical-align: middle;\n",
       "    }\n",
       "\n",
       "    .dataframe tbody tr th {\n",
       "        vertical-align: top;\n",
       "    }\n",
       "\n",
       "    .dataframe thead th {\n",
       "        text-align: right;\n",
       "    }\n",
       "</style>\n",
       "<table border=\"1\" class=\"dataframe\">\n",
       "  <thead>\n",
       "    <tr style=\"text-align: right;\">\n",
       "      <th></th>\n",
       "      <th>Video Title</th>\n",
       "      <th>External Video ID</th>\n",
       "      <th>Video Length</th>\n",
       "      <th>Thumbnail link</th>\n",
       "      <th>Country Code</th>\n",
       "      <th>Is Subscribed</th>\n",
       "      <th>Views</th>\n",
       "      <th>Video Likes Added</th>\n",
       "      <th>Video Dislikes Added</th>\n",
       "      <th>Video Likes Removed</th>\n",
       "      <th>User Subscriptions Added</th>\n",
       "      <th>User Subscriptions Removed</th>\n",
       "      <th>Average View Percentage</th>\n",
       "      <th>Average Watch Time</th>\n",
       "      <th>User Comments Added</th>\n",
       "    </tr>\n",
       "  </thead>\n",
       "  <tbody>\n",
       "    <tr>\n",
       "      <th>0</th>\n",
       "      <td>🌶 Hot Topics in Tech: Data Science Explained #...</td>\n",
       "      <td>OtqQYqRNDGI</td>\n",
       "      <td>59</td>\n",
       "      <td>https://i.ytimg.com/vi/OtqQYqRNDGI/hqdefault.jpg</td>\n",
       "      <td>HK</td>\n",
       "      <td>True</td>\n",
       "      <td>23</td>\n",
       "      <td>1</td>\n",
       "      <td>0</td>\n",
       "      <td>0</td>\n",
       "      <td>2</td>\n",
       "      <td>0</td>\n",
       "      <td>0.67187</td>\n",
       "      <td>39.640348</td>\n",
       "      <td>0</td>\n",
       "    </tr>\n",
       "    <tr>\n",
       "      <th>1</th>\n",
       "      <td>🌶 Hot Topics in Tech: Data Science Explained #...</td>\n",
       "      <td>OtqQYqRNDGI</td>\n",
       "      <td>59</td>\n",
       "      <td>https://i.ytimg.com/vi/OtqQYqRNDGI/hqdefault.jpg</td>\n",
       "      <td>ME</td>\n",
       "      <td>True</td>\n",
       "      <td>3</td>\n",
       "      <td>0</td>\n",
       "      <td>0</td>\n",
       "      <td>0</td>\n",
       "      <td>0</td>\n",
       "      <td>0</td>\n",
       "      <td>0.49887</td>\n",
       "      <td>29.433333</td>\n",
       "      <td>0</td>\n",
       "    </tr>\n",
       "  </tbody>\n",
       "</table>\n",
       "</div>"
      ],
      "text/plain": [
       "                                         Video Title External Video ID  \\\n",
       "0  🌶 Hot Topics in Tech: Data Science Explained #...       OtqQYqRNDGI   \n",
       "1  🌶 Hot Topics in Tech: Data Science Explained #...       OtqQYqRNDGI   \n",
       "\n",
       "   Video Length                                    Thumbnail link  \\\n",
       "0            59  https://i.ytimg.com/vi/OtqQYqRNDGI/hqdefault.jpg   \n",
       "1            59  https://i.ytimg.com/vi/OtqQYqRNDGI/hqdefault.jpg   \n",
       "\n",
       "  Country Code  Is Subscribed  Views  Video Likes Added  Video Dislikes Added  \\\n",
       "0           HK           True     23                  1                     0   \n",
       "1           ME           True      3                  0                     0   \n",
       "\n",
       "   Video Likes Removed  User Subscriptions Added  User Subscriptions Removed  \\\n",
       "0                    0                         2                           0   \n",
       "1                    0                         0                           0   \n",
       "\n",
       "   Average View Percentage  Average Watch Time  User Comments Added  \n",
       "0                  0.67187           39.640348                    0  \n",
       "1                  0.49887           29.433333                    0  "
      ]
     },
     "execution_count": 6,
     "metadata": {},
     "output_type": "execute_result"
    }
   ],
   "source": [
    "df_agg_subscription.head(2)"
   ]
  },
  {
   "cell_type": "code",
   "execution_count": 7,
   "metadata": {},
   "outputs": [
    {
     "name": "stdout",
     "output_type": "stream",
     "text": [
      "<class 'pandas.core.frame.DataFrame'>\n",
      "RangeIndex: 55292 entries, 0 to 55291\n",
      "Data columns (total 15 columns):\n",
      " #   Column                      Non-Null Count  Dtype  \n",
      "---  ------                      --------------  -----  \n",
      " 0   Video Title                 55292 non-null  object \n",
      " 1   External Video ID           55292 non-null  object \n",
      " 2   Video Length                55292 non-null  int64  \n",
      " 3   Thumbnail link              55292 non-null  object \n",
      " 4   Country Code                54906 non-null  object \n",
      " 5   Is Subscribed               55292 non-null  bool   \n",
      " 6   Views                       55292 non-null  int64  \n",
      " 7   Video Likes Added           55292 non-null  int64  \n",
      " 8   Video Dislikes Added        55292 non-null  int64  \n",
      " 9   Video Likes Removed         55292 non-null  int64  \n",
      " 10  User Subscriptions Added    55292 non-null  int64  \n",
      " 11  User Subscriptions Removed  55292 non-null  int64  \n",
      " 12  Average View Percentage     53854 non-null  float64\n",
      " 13  Average Watch Time          53854 non-null  float64\n",
      " 14  User Comments Added         55292 non-null  int64  \n",
      "dtypes: bool(1), float64(2), int64(8), object(4)\n",
      "memory usage: 6.0+ MB\n"
     ]
    }
   ],
   "source": [
    "df_agg_subscription.info()"
   ]
  },
  {
   "cell_type": "code",
   "execution_count": 8,
   "metadata": {},
   "outputs": [
    {
     "data": {
      "text/html": [
       "<div>\n",
       "<style scoped>\n",
       "    .dataframe tbody tr th:only-of-type {\n",
       "        vertical-align: middle;\n",
       "    }\n",
       "\n",
       "    .dataframe tbody tr th {\n",
       "        vertical-align: top;\n",
       "    }\n",
       "\n",
       "    .dataframe thead th {\n",
       "        text-align: right;\n",
       "    }\n",
       "</style>\n",
       "<table border=\"1\" class=\"dataframe\">\n",
       "  <thead>\n",
       "    <tr style=\"text-align: right;\">\n",
       "      <th></th>\n",
       "      <th>Comments</th>\n",
       "      <th>Comment_ID</th>\n",
       "      <th>Reply_Count</th>\n",
       "      <th>Like_Count</th>\n",
       "      <th>Date</th>\n",
       "      <th>VidId</th>\n",
       "      <th>user_ID</th>\n",
       "    </tr>\n",
       "  </thead>\n",
       "  <tbody>\n",
       "    <tr>\n",
       "      <th>0</th>\n",
       "      <td>Thanks for this video Ken.\\n\\nI decided to go ...</td>\n",
       "      <td>UgxFZTIzC4UPyhhX_PZ4AaABAg</td>\n",
       "      <td>0</td>\n",
       "      <td>0</td>\n",
       "      <td>2022-01-22T08:13:29Z</td>\n",
       "      <td>xpIFS6jZbe8</td>\n",
       "      <td>user_981</td>\n",
       "    </tr>\n",
       "    <tr>\n",
       "      <th>1</th>\n",
       "      <td>Hello ken jee!!! I'm doing a graduation on Com...</td>\n",
       "      <td>Ugx3IYuAufhb932GYQx4AaABAg</td>\n",
       "      <td>0</td>\n",
       "      <td>0</td>\n",
       "      <td>2022-01-22T01:09:46Z</td>\n",
       "      <td>xpIFS6jZbe8</td>\n",
       "      <td>user_213</td>\n",
       "    </tr>\n",
       "  </tbody>\n",
       "</table>\n",
       "</div>"
      ],
      "text/plain": [
       "                                            Comments  \\\n",
       "0  Thanks for this video Ken.\\n\\nI decided to go ...   \n",
       "1  Hello ken jee!!! I'm doing a graduation on Com...   \n",
       "\n",
       "                   Comment_ID  Reply_Count  Like_Count                  Date  \\\n",
       "0  UgxFZTIzC4UPyhhX_PZ4AaABAg            0           0  2022-01-22T08:13:29Z   \n",
       "1  Ugx3IYuAufhb932GYQx4AaABAg            0           0  2022-01-22T01:09:46Z   \n",
       "\n",
       "         VidId   user_ID  \n",
       "0  xpIFS6jZbe8  user_981  \n",
       "1  xpIFS6jZbe8  user_213  "
      ]
     },
     "execution_count": 8,
     "metadata": {},
     "output_type": "execute_result"
    }
   ],
   "source": [
    "df_comments.head(2)"
   ]
  },
  {
   "cell_type": "code",
   "execution_count": 9,
   "metadata": {},
   "outputs": [
    {
     "name": "stdout",
     "output_type": "stream",
     "text": [
      "<class 'pandas.core.frame.DataFrame'>\n",
      "RangeIndex: 10240 entries, 0 to 10239\n",
      "Data columns (total 7 columns):\n",
      " #   Column       Non-Null Count  Dtype \n",
      "---  ------       --------------  ----- \n",
      " 0   Comments     10239 non-null  object\n",
      " 1   Comment_ID   10240 non-null  object\n",
      " 2   Reply_Count  10240 non-null  int64 \n",
      " 3   Like_Count   10240 non-null  int64 \n",
      " 4   Date         10240 non-null  object\n",
      " 5   VidId        10240 non-null  object\n",
      " 6   user_ID      10240 non-null  object\n",
      "dtypes: int64(2), object(5)\n",
      "memory usage: 560.1+ KB\n"
     ]
    }
   ],
   "source": [
    "df_comments.info()"
   ]
  },
  {
   "cell_type": "code",
   "execution_count": 10,
   "metadata": {},
   "outputs": [
    {
     "data": {
      "text/html": [
       "<div>\n",
       "<style scoped>\n",
       "    .dataframe tbody tr th:only-of-type {\n",
       "        vertical-align: middle;\n",
       "    }\n",
       "\n",
       "    .dataframe tbody tr th {\n",
       "        vertical-align: top;\n",
       "    }\n",
       "\n",
       "    .dataframe thead th {\n",
       "        text-align: right;\n",
       "    }\n",
       "</style>\n",
       "<table border=\"1\" class=\"dataframe\">\n",
       "  <thead>\n",
       "    <tr style=\"text-align: right;\">\n",
       "      <th></th>\n",
       "      <th>Date</th>\n",
       "      <th>Video Title</th>\n",
       "      <th>External Video ID</th>\n",
       "      <th>Video Length</th>\n",
       "      <th>Thumbnail link</th>\n",
       "      <th>Views</th>\n",
       "      <th>Video Likes Added</th>\n",
       "      <th>Video Dislikes Added</th>\n",
       "      <th>Video Likes Removed</th>\n",
       "      <th>User Subscriptions Added</th>\n",
       "      <th>User Subscriptions Removed</th>\n",
       "      <th>Average View Percentage</th>\n",
       "      <th>Average Watch Time</th>\n",
       "      <th>User Comments Added</th>\n",
       "    </tr>\n",
       "  </thead>\n",
       "  <tbody>\n",
       "    <tr>\n",
       "      <th>0</th>\n",
       "      <td>19 Jan 2022</td>\n",
       "      <td>Kaggle Project From Scratch - Part 2 (Explorat...</td>\n",
       "      <td>KQ80oD_boBM</td>\n",
       "      <td>2191</td>\n",
       "      <td>https://i.ytimg.com/vi/KQ80oD_boBM/hqdefault.jpg</td>\n",
       "      <td>13</td>\n",
       "      <td>0</td>\n",
       "      <td>0</td>\n",
       "      <td>0</td>\n",
       "      <td>0</td>\n",
       "      <td>0</td>\n",
       "      <td>0.069055</td>\n",
       "      <td>151.300154</td>\n",
       "      <td>0</td>\n",
       "    </tr>\n",
       "    <tr>\n",
       "      <th>1</th>\n",
       "      <td>19 Jan 2022</td>\n",
       "      <td>Welcome To My Channel | Ken Jee | Data Science</td>\n",
       "      <td>smeFkHwnM_k</td>\n",
       "      <td>51</td>\n",
       "      <td>https://i.ytimg.com/vi/smeFkHwnM_k/hqdefault.jpg</td>\n",
       "      <td>2</td>\n",
       "      <td>0</td>\n",
       "      <td>0</td>\n",
       "      <td>0</td>\n",
       "      <td>1</td>\n",
       "      <td>0</td>\n",
       "      <td>0.471255</td>\n",
       "      <td>24.034000</td>\n",
       "      <td>0</td>\n",
       "    </tr>\n",
       "  </tbody>\n",
       "</table>\n",
       "</div>"
      ],
      "text/plain": [
       "          Date                                        Video Title  \\\n",
       "0  19 Jan 2022  Kaggle Project From Scratch - Part 2 (Explorat...   \n",
       "1  19 Jan 2022     Welcome To My Channel | Ken Jee | Data Science   \n",
       "\n",
       "  External Video ID  Video Length  \\\n",
       "0       KQ80oD_boBM          2191   \n",
       "1       smeFkHwnM_k            51   \n",
       "\n",
       "                                     Thumbnail link  Views  Video Likes Added  \\\n",
       "0  https://i.ytimg.com/vi/KQ80oD_boBM/hqdefault.jpg     13                  0   \n",
       "1  https://i.ytimg.com/vi/smeFkHwnM_k/hqdefault.jpg      2                  0   \n",
       "\n",
       "   Video Dislikes Added  Video Likes Removed  User Subscriptions Added  \\\n",
       "0                     0                    0                         0   \n",
       "1                     0                    0                         1   \n",
       "\n",
       "   User Subscriptions Removed  Average View Percentage  Average Watch Time  \\\n",
       "0                           0                 0.069055          151.300154   \n",
       "1                           0                 0.471255           24.034000   \n",
       "\n",
       "   User Comments Added  \n",
       "0                    0  \n",
       "1                    0  "
      ]
     },
     "execution_count": 10,
     "metadata": {},
     "output_type": "execute_result"
    }
   ],
   "source": [
    "df_video_over_time.head(2)"
   ]
  },
  {
   "cell_type": "code",
   "execution_count": 11,
   "metadata": {},
   "outputs": [
    {
     "name": "stdout",
     "output_type": "stream",
     "text": [
      "<class 'pandas.core.frame.DataFrame'>\n",
      "RangeIndex: 111857 entries, 0 to 111856\n",
      "Data columns (total 14 columns):\n",
      " #   Column                      Non-Null Count   Dtype  \n",
      "---  ------                      --------------   -----  \n",
      " 0   Date                        111857 non-null  object \n",
      " 1   Video Title                 111857 non-null  object \n",
      " 2   External Video ID           111857 non-null  object \n",
      " 3   Video Length                111857 non-null  int64  \n",
      " 4   Thumbnail link              111857 non-null  object \n",
      " 5   Views                       111857 non-null  int64  \n",
      " 6   Video Likes Added           111857 non-null  int64  \n",
      " 7   Video Dislikes Added        111857 non-null  int64  \n",
      " 8   Video Likes Removed         111857 non-null  int64  \n",
      " 9   User Subscriptions Added    111857 non-null  int64  \n",
      " 10  User Subscriptions Removed  111857 non-null  int64  \n",
      " 11  Average View Percentage     110510 non-null  float64\n",
      " 12  Average Watch Time          110510 non-null  float64\n",
      " 13  User Comments Added         111857 non-null  int64  \n",
      "dtypes: float64(2), int64(8), object(4)\n",
      "memory usage: 11.9+ MB\n"
     ]
    }
   ],
   "source": [
    "df_video_over_time.info()"
   ]
  },
  {
   "cell_type": "code",
   "execution_count": 12,
   "metadata": {},
   "outputs": [],
   "source": [
    "    # Convert 'Video publish time' to datetime\n",
    "df_agg_video['Video publish time'] = pd.to_datetime(df_agg_video['Video pub­lish time'],format='mixed')\n",
    "\n",
    "    # Convert 'Average view duration' to timedelta\n",
    "df_agg_video['Average view duration'] = pd.to_timedelta(df_agg_video['Av­er­age view dur­a­tion'])\n",
    "\n",
    "    # Calculate duration in seconds\n",
    "df_agg_video['Avg_duration_sec'] = df_agg_video['Average view duration'].dt.total_seconds()\n",
    "\n",
    "    # Calculate 'Engagement ratio'\n",
    "df_agg_video['Engagement_ratio'] = (df_agg_video['Com­ments ad­ded'] + df_agg_video['Shares'] +\n",
    "                                        df_agg_video['Dis­likes'] + df_agg_video['Likes']) / df_agg_video['Views']\n",
    "\n",
    "    # Calculate 'Views / sub gained'\n",
    "df_agg_video['Views / sub gained'] = df_agg_video['Views'] / df_agg_video['Sub­scribers gained']\n",
    "\n",
    "    # Sort by 'Video publish time'\n",
    "df_agg_video.sort_values('Video publish time', ascending=False, inplace=True)\n",
    "\n",
    "df_video_over_time['Date'] = pd.to_datetime(df_video_over_time['Date'],format='mixed')"
   ]
  },
  {
   "cell_type": "markdown",
   "metadata": {},
   "source": [
    "<h5>Analysis</h5>"
   ]
  },
  {
   "cell_type": "markdown",
   "metadata": {},
   "source": [
    "<h5>Overall revenue earned</h5>"
   ]
  },
  {
   "cell_type": "code",
   "execution_count": 41,
   "metadata": {},
   "outputs": [
    {
     "name": "stdout",
     "output_type": "stream",
     "text": [
      "Overall revenue earned: $29067.73\n"
     ]
    }
   ],
   "source": [
    "total_revenue = df_agg_video['Your es­tim­ated rev­en­ue (USD)'].sum()\n",
    "\n",
    "print(\"Overall revenue earned: ${:.2f}\".format(total_revenue))"
   ]
  },
  {
   "cell_type": "markdown",
   "metadata": {},
   "source": [
    "<h5>Videos generated the highest revenue in terms of RPM (Revenue per thousand impressions) and CPM (Cost per thousand impressions)</h5><br />\n",
    "RPM represents the revenue earned by a content creator for every thousand impressions (views) of ads on their content.<br />\n",
    "CPM represents the cost paid by advertisers for every thousand impressions (views) of their ads on the content creator's platform.<br />\n",
    "<strong>Impact on Profits:</strong><br />\n",
    "Higher RPM: When a content creator has a higher RPM, they earn more revenue for each ad impression, leading to increased profits. Content creators can optimize their content and ad placement to increase RPM and maximize their earnings.<br />\n",
    "Higher CPM: A higher CPM means that advertisers are willing to pay more to reach the content creator's audience. This can result in increased ad revenue for the content creator and higher profits, especially if they have a large and engaged audience."
   ]
  },
  {
   "cell_type": "code",
   "execution_count": 34,
   "metadata": {},
   "outputs": [
    {
     "name": "stdout",
     "output_type": "stream",
     "text": [
      "Highest RPM: 10.387\n",
      "Title: His Startup Will Land You a Data Science Job (Jeremie Harris) - KNN EP. 15\n",
      "\n",
      "\n",
      "Highest CPM: 37.786\n",
      "Title: Welcome To My Channel | Ken Jee | Data Science\n"
     ]
    }
   ],
   "source": [
    "highest_rpm = df_agg_video['RPM (USD)'].max()\n",
    "rpm_video_title = df_agg_video[df_agg_video['RPM (USD)'] == highest_rpm]['Video title'].iloc[0]\n",
    "highest_cpm = df_agg_video['CPM (USD)'].max()\n",
    "cpm_video_title = df_agg_video[df_agg_video['CPM (USD)'] == highest_cpm]['Video title'].iloc[0]\n",
    "print(\"Highest RPM:\" ,highest_rpm)\n",
    "print(\"Title:\", rpm_video_title)\n",
    "print(\"\\n\")\n",
    "print(\"Highest CPM:\", highest_cpm)\n",
    "print(\"Title:\", cpm_video_title)"
   ]
  },
  {
   "cell_type": "code",
   "execution_count": 14,
   "metadata": {},
   "outputs": [
    {
     "name": "stderr",
     "output_type": "stream",
     "text": [
      "c:\\Users\\Anupama S\\Desktop\\portfolio\\venv\\Lib\\site-packages\\_plotly_utils\\basevalidators.py:107: FutureWarning: The behavior of DatetimeProperties.to_pydatetime is deprecated, in a future version this will return a Series containing python datetime objects instead of an ndarray. To retain the old behavior, call `np.array` on the result\n",
      "  v = v.dt.to_pydatetime()\n"
     ]
    },
    {
     "data": {
      "application/vnd.plotly.v1+json": {
       "config": {
        "plotlyServerURL": "https://plot.ly"
       },
       "data": [
        {
         "hovertemplate": "Metric=RPM (USD)<br>Video publish time=%{x}<br>USD=%{y}<extra></extra>",
         "legendgroup": "RPM (USD)",
         "line": {
          "color": "#636efa",
          "dash": "solid"
         },
         "marker": {
          "symbol": "circle"
         },
         "mode": "lines",
         "name": "RPM (USD)",
         "orientation": "v",
         "showlegend": true,
         "type": "scatter",
         "x": [
          "2022-01-17T00:00:00",
          "2022-01-14T00:00:00",
          "2022-01-10T00:00:00",
          "2022-01-03T00:00:00",
          "2021-12-27T00:00:00",
          "2021-12-17T00:00:00",
          "2021-12-10T00:00:00",
          "2021-12-03T00:00:00",
          "2021-11-26T00:00:00",
          "2021-11-19T00:00:00",
          "2021-11-12T00:00:00",
          "2021-11-05T00:00:00",
          "2021-10-29T00:00:00",
          "2021-10-22T00:00:00",
          "2021-10-18T00:00:00",
          "2021-10-12T00:00:00",
          "2021-10-08T00:00:00",
          "2021-08-20T00:00:00",
          "2021-08-07T00:00:00",
          "2021-08-06T00:00:00",
          "2021-07-31T00:00:00",
          "2021-07-21T00:00:00",
          "2021-07-16T00:00:00",
          "2021-07-09T00:00:00",
          "2021-07-03T00:00:00",
          "2021-06-25T00:00:00",
          "2021-06-18T00:00:00",
          "2021-06-11T00:00:00",
          "2021-06-03T00:00:00",
          "2021-05-28T00:00:00",
          "2021-05-22T00:00:00",
          "2021-05-14T00:00:00",
          "2021-05-13T00:00:00",
          "2021-05-07T00:00:00",
          "2021-04-30T00:00:00",
          "2021-04-23T00:00:00",
          "2021-04-16T00:00:00",
          "2021-04-09T00:00:00",
          "2021-04-02T00:00:00",
          "2021-03-26T00:00:00",
          "2021-03-19T00:00:00",
          "2021-03-12T00:00:00",
          "2021-03-08T00:00:00",
          "2021-02-26T00:00:00",
          "2021-02-19T00:00:00",
          "2021-02-12T00:00:00",
          "2021-01-29T00:00:00",
          "2021-01-23T00:00:00",
          "2021-01-16T00:00:00",
          "2021-01-08T00:00:00",
          "2021-01-02T00:00:00",
          "2020-12-26T00:00:00",
          "2020-12-19T00:00:00",
          "2020-12-10T00:00:00",
          "2020-12-07T00:00:00",
          "2020-11-20T00:00:00",
          "2020-11-13T00:00:00",
          "2020-11-12T00:00:00",
          "2020-11-06T00:00:00",
          "2020-10-30T00:00:00",
          "2020-10-23T00:00:00",
          "2020-10-19T00:00:00",
          "2020-10-16T00:00:00",
          "2020-10-14T00:00:00",
          "2020-10-12T00:00:00",
          "2020-10-09T00:00:00",
          "2020-10-05T00:00:00",
          "2020-10-02T00:00:00",
          "2020-09-30T00:00:00",
          "2020-09-28T00:00:00",
          "2020-09-26T00:00:00",
          "2020-09-23T00:00:00",
          "2020-09-21T00:00:00",
          "2020-09-18T00:00:00",
          "2020-09-16T00:00:00",
          "2020-09-14T00:00:00",
          "2020-09-11T00:00:00",
          "2020-09-09T00:00:00",
          "2020-09-07T00:00:00",
          "2020-09-04T00:00:00",
          "2020-09-02T00:00:00",
          "2020-08-31T00:00:00",
          "2020-08-29T00:00:00",
          "2020-08-26T00:00:00",
          "2020-08-24T00:00:00",
          "2020-08-21T00:00:00",
          "2020-08-19T00:00:00",
          "2020-08-17T00:00:00",
          "2020-08-14T00:00:00",
          "2020-08-12T00:00:00",
          "2020-08-10T00:00:00",
          "2020-08-07T00:00:00",
          "2020-08-05T00:00:00",
          "2020-08-03T00:00:00",
          "2020-07-31T00:00:00",
          "2020-07-30T00:00:00",
          "2020-07-27T00:00:00",
          "2020-07-24T00:00:00",
          "2020-07-22T00:00:00",
          "2020-07-20T00:00:00",
          "2020-07-17T00:00:00",
          "2020-07-16T00:00:00",
          "2020-07-13T00:00:00",
          "2020-07-10T00:00:00",
          "2020-07-08T00:00:00",
          "2020-07-06T00:00:00",
          "2020-07-03T00:00:00",
          "2020-07-01T00:00:00",
          "2020-06-29T00:00:00",
          "2020-06-26T00:00:00",
          "2020-06-22T00:00:00",
          "2020-06-20T00:00:00",
          "2020-06-15T00:00:00",
          "2020-06-12T00:00:00",
          "2020-06-08T00:00:00",
          "2020-06-05T00:00:00",
          "2020-06-01T00:00:00",
          "2020-05-29T00:00:00",
          "2020-05-25T00:00:00",
          "2020-05-22T00:00:00",
          "2020-05-18T00:00:00",
          "2020-05-15T00:00:00",
          "2020-05-13T00:00:00",
          "2020-05-11T00:00:00",
          "2020-05-08T00:00:00",
          "2020-05-04T00:00:00",
          "2020-05-01T00:00:00",
          "2020-04-27T00:00:00",
          "2020-04-24T00:00:00",
          "2020-04-22T00:00:00",
          "2020-04-20T00:00:00",
          "2020-04-17T00:00:00",
          "2020-04-15T00:00:00",
          "2020-04-13T00:00:00",
          "2020-04-10T00:00:00",
          "2020-04-08T00:00:00",
          "2020-04-06T00:00:00",
          "2020-04-03T00:00:00",
          "2020-03-30T00:00:00",
          "2020-03-27T00:00:00",
          "2020-03-23T00:00:00",
          "2020-03-20T00:00:00",
          "2020-03-16T00:00:00",
          "2020-03-13T00:00:00",
          "2020-03-11T00:00:00",
          "2020-03-09T00:00:00",
          "2020-03-06T00:00:00",
          "2020-03-02T00:00:00",
          "2020-02-28T00:00:00",
          "2020-02-24T00:00:00",
          "2020-02-21T00:00:00",
          "2020-02-17T00:00:00",
          "2020-02-14T00:00:00",
          "2020-02-10T00:00:00",
          "2020-02-07T00:00:00",
          "2020-02-03T00:00:00",
          "2020-01-31T00:00:00",
          "2020-01-27T00:00:00",
          "2020-01-20T00:00:00",
          "2020-01-18T00:00:00",
          "2020-01-13T00:00:00",
          "2020-01-10T00:00:00",
          "2020-01-06T00:00:00",
          "2020-01-03T00:00:00",
          "2019-12-30T00:00:00",
          "2019-12-27T00:00:00",
          "2019-12-23T00:00:00",
          "2019-12-20T00:00:00",
          "2019-12-16T00:00:00",
          "2019-12-13T00:00:00",
          "2019-12-09T00:00:00",
          "2019-12-06T00:00:00",
          "2019-12-02T00:00:00",
          "2019-11-29T00:00:00",
          "2019-11-25T00:00:00",
          "2019-11-22T00:00:00",
          "2019-11-18T00:00:00",
          "2019-11-11T00:00:00",
          "2019-11-04T00:00:00",
          "2019-10-21T00:00:00",
          "2019-10-16T00:00:00",
          "2019-09-29T00:00:00",
          "2019-09-21T00:00:00",
          "2019-09-13T00:00:00",
          "2019-09-04T00:00:00",
          "2019-08-26T00:00:00",
          "2019-08-18T00:00:00",
          "2019-08-11T00:00:00",
          "2019-08-08T00:00:00",
          "2019-08-05T00:00:00",
          "2019-07-30T00:00:00",
          "2019-07-19T00:00:00",
          "2019-07-13T00:00:00",
          "2019-07-05T00:00:00",
          "2019-06-30T00:00:00",
          "2019-06-21T00:00:00",
          "2019-06-15T00:00:00",
          "2019-06-07T00:00:00",
          "2019-05-25T00:00:00",
          "2019-05-17T00:00:00",
          "2019-05-14T00:00:00",
          "2019-05-05T00:00:00",
          "2019-04-25T00:00:00",
          "2019-04-18T00:00:00",
          "2019-04-12T00:00:00",
          "2019-03-29T00:00:00",
          "2019-03-21T00:00:00",
          "2019-03-16T00:00:00",
          "2019-03-09T00:00:00",
          "2019-03-03T00:00:00",
          "2019-03-03T00:00:00",
          "2019-02-19T00:00:00",
          "2019-02-04T00:00:00",
          "2019-01-05T00:00:00",
          "2018-12-18T00:00:00",
          "2018-12-11T00:00:00",
          "2018-11-30T00:00:00",
          "2018-11-19T00:00:00",
          "2018-11-14T00:00:00",
          "2018-11-12T00:00:00",
          "2018-07-10T00:00:00",
          "2017-11-18T00:00:00",
          "2017-06-06T00:00:00"
         ],
         "xaxis": "x",
         "y": [
          4.055,
          1.882,
          5.971,
          5.321,
          6.836,
          3.611,
          1.947,
          7.098,
          4.452,
          5.272,
          3.942,
          4.247,
          5.525,
          5.943,
          6.367,
          3.078,
          4.338,
          4.843,
          2.059,
          3.19,
          7.008,
          1.698,
          2.611,
          5.662,
          4.367,
          4.395,
          1.699,
          2.968,
          1.608,
          7.307,
          4.805,
          6.795,
          2.097,
          1.807,
          1.378,
          7.726,
          4.803,
          5.569,
          4.373,
          5.721,
          5.501,
          6.264,
          3.217,
          2.945,
          8.647,
          4.042,
          2.698,
          3.257,
          4,
          6.656,
          4.289,
          4.335,
          7.526,
          5.326,
          2.686,
          8.328,
          4.445,
          2.668,
          3.731,
          6.283,
          3.879,
          3.217,
          4.541,
          6.853,
          6.2,
          4.179,
          2.376,
          3.77,
          4.47,
          5.991,
          4.502,
          10.387,
          3.981,
          4.604,
          2.562,
          5.985,
          5.275,
          5.427,
          3.715,
          5.07,
          4.089,
          5.035,
          3.143,
          3.198,
          4.646,
          3.83,
          4.204,
          2.411,
          5.741,
          7.437,
          4.752,
          3.184,
          2.973,
          2.454,
          4.622,
          3.52,
          3.235,
          3.222,
          3.522,
          7.921,
          5.33,
          9.516,
          4.334,
          3.521,
          5.097,
          3.548,
          3.357,
          2.461,
          2.827,
          5.161,
          2.755,
          2.286,
          2.327,
          3.125,
          3.204,
          6.722,
          3.635,
          5.657,
          9.96,
          6.147,
          6.881,
          5.684,
          0,
          2.979,
          6.353,
          4.614,
          4.648,
          3.082,
          6.976,
          7.568,
          9.477,
          2.746,
          2.837,
          4.359,
          4.43,
          4.323,
          5.789,
          4.334,
          3.615,
          4.58,
          3.956,
          3.336,
          4.652,
          4.608,
          3.408,
          4.097,
          3.928,
          5.618,
          5.156,
          3.035,
          7.352,
          3.733,
          1.039,
          4.538,
          4.674,
          5.546,
          3.529,
          8.027,
          4.831,
          8.315,
          5.302,
          3.455,
          5.635,
          1.806,
          4.946,
          2.404,
          4.774,
          5.403,
          4.79,
          3.81,
          4.539,
          6.916,
          4.247,
          4.652,
          2.445,
          5.362,
          5.277,
          3.464,
          4.009,
          1.852,
          3.275,
          4.318,
          2.365,
          2.048,
          2.358,
          0.542,
          6.178,
          5.718,
          4.797,
          3.125,
          3.836,
          8.85,
          6.676,
          3.47,
          4.412,
          3.614,
          4.958,
          7.534,
          3.374,
          3.439,
          5.077,
          2.651,
          4.802,
          2.924,
          3.426,
          3.993,
          4.906,
          5.641,
          2.721,
          3.578,
          4.992,
          3.419,
          4.408,
          3.645,
          3.784,
          4.178,
          5.218,
          3.363,
          7.398,
          4.419,
          2.883,
          1.326,
          0.05
         ],
         "yaxis": "y"
        },
        {
         "hovertemplate": "Metric=CPM (USD)<br>Video publish time=%{x}<br>USD=%{y}<extra></extra>",
         "legendgroup": "CPM (USD)",
         "line": {
          "color": "#EF553B",
          "dash": "solid"
         },
         "marker": {
          "symbol": "circle"
         },
         "mode": "lines",
         "name": "CPM (USD)",
         "orientation": "v",
         "showlegend": true,
         "type": "scatter",
         "x": [
          "2022-01-17T00:00:00",
          "2022-01-14T00:00:00",
          "2022-01-10T00:00:00",
          "2022-01-03T00:00:00",
          "2021-12-27T00:00:00",
          "2021-12-17T00:00:00",
          "2021-12-10T00:00:00",
          "2021-12-03T00:00:00",
          "2021-11-26T00:00:00",
          "2021-11-19T00:00:00",
          "2021-11-12T00:00:00",
          "2021-11-05T00:00:00",
          "2021-10-29T00:00:00",
          "2021-10-22T00:00:00",
          "2021-10-18T00:00:00",
          "2021-10-12T00:00:00",
          "2021-10-08T00:00:00",
          "2021-08-20T00:00:00",
          "2021-08-07T00:00:00",
          "2021-08-06T00:00:00",
          "2021-07-31T00:00:00",
          "2021-07-21T00:00:00",
          "2021-07-16T00:00:00",
          "2021-07-09T00:00:00",
          "2021-07-03T00:00:00",
          "2021-06-25T00:00:00",
          "2021-06-18T00:00:00",
          "2021-06-11T00:00:00",
          "2021-06-03T00:00:00",
          "2021-05-28T00:00:00",
          "2021-05-22T00:00:00",
          "2021-05-14T00:00:00",
          "2021-05-13T00:00:00",
          "2021-05-07T00:00:00",
          "2021-04-30T00:00:00",
          "2021-04-23T00:00:00",
          "2021-04-16T00:00:00",
          "2021-04-09T00:00:00",
          "2021-04-02T00:00:00",
          "2021-03-26T00:00:00",
          "2021-03-19T00:00:00",
          "2021-03-12T00:00:00",
          "2021-03-08T00:00:00",
          "2021-02-26T00:00:00",
          "2021-02-19T00:00:00",
          "2021-02-12T00:00:00",
          "2021-01-29T00:00:00",
          "2021-01-23T00:00:00",
          "2021-01-16T00:00:00",
          "2021-01-08T00:00:00",
          "2021-01-02T00:00:00",
          "2020-12-26T00:00:00",
          "2020-12-19T00:00:00",
          "2020-12-10T00:00:00",
          "2020-12-07T00:00:00",
          "2020-11-20T00:00:00",
          "2020-11-13T00:00:00",
          "2020-11-12T00:00:00",
          "2020-11-06T00:00:00",
          "2020-10-30T00:00:00",
          "2020-10-23T00:00:00",
          "2020-10-19T00:00:00",
          "2020-10-16T00:00:00",
          "2020-10-14T00:00:00",
          "2020-10-12T00:00:00",
          "2020-10-09T00:00:00",
          "2020-10-05T00:00:00",
          "2020-10-02T00:00:00",
          "2020-09-30T00:00:00",
          "2020-09-28T00:00:00",
          "2020-09-26T00:00:00",
          "2020-09-23T00:00:00",
          "2020-09-21T00:00:00",
          "2020-09-18T00:00:00",
          "2020-09-16T00:00:00",
          "2020-09-14T00:00:00",
          "2020-09-11T00:00:00",
          "2020-09-09T00:00:00",
          "2020-09-07T00:00:00",
          "2020-09-04T00:00:00",
          "2020-09-02T00:00:00",
          "2020-08-31T00:00:00",
          "2020-08-29T00:00:00",
          "2020-08-26T00:00:00",
          "2020-08-24T00:00:00",
          "2020-08-21T00:00:00",
          "2020-08-19T00:00:00",
          "2020-08-17T00:00:00",
          "2020-08-14T00:00:00",
          "2020-08-12T00:00:00",
          "2020-08-10T00:00:00",
          "2020-08-07T00:00:00",
          "2020-08-05T00:00:00",
          "2020-08-03T00:00:00",
          "2020-07-31T00:00:00",
          "2020-07-30T00:00:00",
          "2020-07-27T00:00:00",
          "2020-07-24T00:00:00",
          "2020-07-22T00:00:00",
          "2020-07-20T00:00:00",
          "2020-07-17T00:00:00",
          "2020-07-16T00:00:00",
          "2020-07-13T00:00:00",
          "2020-07-10T00:00:00",
          "2020-07-08T00:00:00",
          "2020-07-06T00:00:00",
          "2020-07-03T00:00:00",
          "2020-07-01T00:00:00",
          "2020-06-29T00:00:00",
          "2020-06-26T00:00:00",
          "2020-06-22T00:00:00",
          "2020-06-20T00:00:00",
          "2020-06-15T00:00:00",
          "2020-06-12T00:00:00",
          "2020-06-08T00:00:00",
          "2020-06-05T00:00:00",
          "2020-06-01T00:00:00",
          "2020-05-29T00:00:00",
          "2020-05-25T00:00:00",
          "2020-05-22T00:00:00",
          "2020-05-18T00:00:00",
          "2020-05-15T00:00:00",
          "2020-05-13T00:00:00",
          "2020-05-11T00:00:00",
          "2020-05-08T00:00:00",
          "2020-05-04T00:00:00",
          "2020-05-01T00:00:00",
          "2020-04-27T00:00:00",
          "2020-04-24T00:00:00",
          "2020-04-22T00:00:00",
          "2020-04-20T00:00:00",
          "2020-04-17T00:00:00",
          "2020-04-15T00:00:00",
          "2020-04-13T00:00:00",
          "2020-04-10T00:00:00",
          "2020-04-08T00:00:00",
          "2020-04-06T00:00:00",
          "2020-04-03T00:00:00",
          "2020-03-30T00:00:00",
          "2020-03-27T00:00:00",
          "2020-03-23T00:00:00",
          "2020-03-20T00:00:00",
          "2020-03-16T00:00:00",
          "2020-03-13T00:00:00",
          "2020-03-11T00:00:00",
          "2020-03-09T00:00:00",
          "2020-03-06T00:00:00",
          "2020-03-02T00:00:00",
          "2020-02-28T00:00:00",
          "2020-02-24T00:00:00",
          "2020-02-21T00:00:00",
          "2020-02-17T00:00:00",
          "2020-02-14T00:00:00",
          "2020-02-10T00:00:00",
          "2020-02-07T00:00:00",
          "2020-02-03T00:00:00",
          "2020-01-31T00:00:00",
          "2020-01-27T00:00:00",
          "2020-01-20T00:00:00",
          "2020-01-18T00:00:00",
          "2020-01-13T00:00:00",
          "2020-01-10T00:00:00",
          "2020-01-06T00:00:00",
          "2020-01-03T00:00:00",
          "2019-12-30T00:00:00",
          "2019-12-27T00:00:00",
          "2019-12-23T00:00:00",
          "2019-12-20T00:00:00",
          "2019-12-16T00:00:00",
          "2019-12-13T00:00:00",
          "2019-12-09T00:00:00",
          "2019-12-06T00:00:00",
          "2019-12-02T00:00:00",
          "2019-11-29T00:00:00",
          "2019-11-25T00:00:00",
          "2019-11-22T00:00:00",
          "2019-11-18T00:00:00",
          "2019-11-11T00:00:00",
          "2019-11-04T00:00:00",
          "2019-10-21T00:00:00",
          "2019-10-16T00:00:00",
          "2019-09-29T00:00:00",
          "2019-09-21T00:00:00",
          "2019-09-13T00:00:00",
          "2019-09-04T00:00:00",
          "2019-08-26T00:00:00",
          "2019-08-18T00:00:00",
          "2019-08-11T00:00:00",
          "2019-08-08T00:00:00",
          "2019-08-05T00:00:00",
          "2019-07-30T00:00:00",
          "2019-07-19T00:00:00",
          "2019-07-13T00:00:00",
          "2019-07-05T00:00:00",
          "2019-06-30T00:00:00",
          "2019-06-21T00:00:00",
          "2019-06-15T00:00:00",
          "2019-06-07T00:00:00",
          "2019-05-25T00:00:00",
          "2019-05-17T00:00:00",
          "2019-05-14T00:00:00",
          "2019-05-05T00:00:00",
          "2019-04-25T00:00:00",
          "2019-04-18T00:00:00",
          "2019-04-12T00:00:00",
          "2019-03-29T00:00:00",
          "2019-03-21T00:00:00",
          "2019-03-16T00:00:00",
          "2019-03-09T00:00:00",
          "2019-03-03T00:00:00",
          "2019-03-03T00:00:00",
          "2019-02-19T00:00:00",
          "2019-02-04T00:00:00",
          "2019-01-05T00:00:00",
          "2018-12-18T00:00:00",
          "2018-12-11T00:00:00",
          "2018-11-30T00:00:00",
          "2018-11-19T00:00:00",
          "2018-11-14T00:00:00",
          "2018-11-12T00:00:00",
          "2018-07-10T00:00:00",
          "2017-11-18T00:00:00",
          "2017-06-06T00:00:00"
         ],
         "xaxis": "x",
         "y": [
          10.288,
          11.16,
          12.045,
          12.49,
          13.534,
          9.113,
          10.912,
          15.168,
          10.231,
          9.354,
          9.322,
          9.533,
          10.555,
          13.314,
          13.744,
          6.219,
          9.387,
          11.484,
          8.054,
          10.591,
          16.922,
          6.764,
          6.522,
          12.59,
          9.965,
          11.005,
          7.284,
          10.321,
          8.069,
          11.354,
          11.344,
          12.937,
          9.237,
          8.816,
          8.768,
          13.924,
          14.051,
          12.805,
          13.521,
          10.51,
          11.858,
          12.904,
          8.312,
          10.539,
          19.322,
          9.855,
          10.302,
          11.302,
          8.997,
          12.332,
          10.246,
          12.805,
          15.786,
          9.356,
          10.189,
          14.19,
          10.279,
          6.259,
          11.179,
          14.776,
          10.486,
          9.61,
          10.853,
          12.349,
          12.602,
          9.26,
          6.882,
          10.216,
          11.487,
          13.499,
          11.302,
          15.257,
          10.698,
          9.501,
          5.981,
          11.522,
          11.366,
          10.719,
          8.704,
          10.472,
          9.293,
          10.143,
          7.943,
          6.993,
          11.355,
          9.529,
          10.708,
          6.336,
          9.524,
          10.958,
          9.591,
          7.453,
          7.425,
          6.158,
          10.8,
          7.263,
          8.081,
          7.571,
          7.881,
          11.859,
          13.695,
          11.695,
          9.369,
          7.619,
          9.661,
          10.144,
          8.208,
          5.439,
          7.571,
          10.256,
          7.205,
          5.786,
          6.032,
          7.179,
          7.9,
          9.554,
          9.258,
          13.458,
          13.443,
          12.346,
          10.711,
          14.666,
          null,
          7.014,
          12.835,
          12.228,
          10.56,
          8.865,
          10.703,
          12.858,
          17.417,
          10.347,
          9.694,
          11.016,
          12.003,
          12.468,
          12.422,
          11.954,
          10.047,
          12.682,
          10.126,
          10.289,
          11.833,
          12.416,
          8.601,
          9.124,
          9.461,
          14.95,
          11.63,
          9.215,
          14.368,
          9.247,
          7.311,
          11.941,
          12.583,
          12.031,
          12.105,
          13.707,
          9.377,
          17.543,
          13.012,
          13.185,
          18.409,
          8.793,
          15.38,
          22.678,
          15.916,
          12.188,
          9.253,
          8.863,
          10.363,
          19.093,
          8.588,
          16.891,
          12.182,
          12.367,
          14.503,
          12.738,
          15.217,
          8.087,
          14.95,
          14.981,
          8.08,
          10,
          11.647,
          12.098,
          14.178,
          15.198,
          11.459,
          13.669,
          11.586,
          18.056,
          15.337,
          12.484,
          11.644,
          12.185,
          12.892,
          12.833,
          15.596,
          13.371,
          11.998,
          12.206,
          10.619,
          10.454,
          10.963,
          13.219,
          14.61,
          13.808,
          11.541,
          14.551,
          37.786,
          13.161,
          16.199,
          13.721,
          12.59,
          15.083,
          16.232,
          11.128,
          15.205,
          14.006,
          10.667,
          10.819,
          null
         ],
         "yaxis": "y"
        }
       ],
       "layout": {
        "legend": {
         "title": {
          "text": "Metric"
         },
         "tracegroupgap": 0
        },
        "template": {
         "data": {
          "bar": [
           {
            "error_x": {
             "color": "#2a3f5f"
            },
            "error_y": {
             "color": "#2a3f5f"
            },
            "marker": {
             "line": {
              "color": "#E5ECF6",
              "width": 0.5
             },
             "pattern": {
              "fillmode": "overlay",
              "size": 10,
              "solidity": 0.2
             }
            },
            "type": "bar"
           }
          ],
          "barpolar": [
           {
            "marker": {
             "line": {
              "color": "#E5ECF6",
              "width": 0.5
             },
             "pattern": {
              "fillmode": "overlay",
              "size": 10,
              "solidity": 0.2
             }
            },
            "type": "barpolar"
           }
          ],
          "carpet": [
           {
            "aaxis": {
             "endlinecolor": "#2a3f5f",
             "gridcolor": "white",
             "linecolor": "white",
             "minorgridcolor": "white",
             "startlinecolor": "#2a3f5f"
            },
            "baxis": {
             "endlinecolor": "#2a3f5f",
             "gridcolor": "white",
             "linecolor": "white",
             "minorgridcolor": "white",
             "startlinecolor": "#2a3f5f"
            },
            "type": "carpet"
           }
          ],
          "choropleth": [
           {
            "colorbar": {
             "outlinewidth": 0,
             "ticks": ""
            },
            "type": "choropleth"
           }
          ],
          "contour": [
           {
            "colorbar": {
             "outlinewidth": 0,
             "ticks": ""
            },
            "colorscale": [
             [
              0,
              "#0d0887"
             ],
             [
              0.1111111111111111,
              "#46039f"
             ],
             [
              0.2222222222222222,
              "#7201a8"
             ],
             [
              0.3333333333333333,
              "#9c179e"
             ],
             [
              0.4444444444444444,
              "#bd3786"
             ],
             [
              0.5555555555555556,
              "#d8576b"
             ],
             [
              0.6666666666666666,
              "#ed7953"
             ],
             [
              0.7777777777777778,
              "#fb9f3a"
             ],
             [
              0.8888888888888888,
              "#fdca26"
             ],
             [
              1,
              "#f0f921"
             ]
            ],
            "type": "contour"
           }
          ],
          "contourcarpet": [
           {
            "colorbar": {
             "outlinewidth": 0,
             "ticks": ""
            },
            "type": "contourcarpet"
           }
          ],
          "heatmap": [
           {
            "colorbar": {
             "outlinewidth": 0,
             "ticks": ""
            },
            "colorscale": [
             [
              0,
              "#0d0887"
             ],
             [
              0.1111111111111111,
              "#46039f"
             ],
             [
              0.2222222222222222,
              "#7201a8"
             ],
             [
              0.3333333333333333,
              "#9c179e"
             ],
             [
              0.4444444444444444,
              "#bd3786"
             ],
             [
              0.5555555555555556,
              "#d8576b"
             ],
             [
              0.6666666666666666,
              "#ed7953"
             ],
             [
              0.7777777777777778,
              "#fb9f3a"
             ],
             [
              0.8888888888888888,
              "#fdca26"
             ],
             [
              1,
              "#f0f921"
             ]
            ],
            "type": "heatmap"
           }
          ],
          "heatmapgl": [
           {
            "colorbar": {
             "outlinewidth": 0,
             "ticks": ""
            },
            "colorscale": [
             [
              0,
              "#0d0887"
             ],
             [
              0.1111111111111111,
              "#46039f"
             ],
             [
              0.2222222222222222,
              "#7201a8"
             ],
             [
              0.3333333333333333,
              "#9c179e"
             ],
             [
              0.4444444444444444,
              "#bd3786"
             ],
             [
              0.5555555555555556,
              "#d8576b"
             ],
             [
              0.6666666666666666,
              "#ed7953"
             ],
             [
              0.7777777777777778,
              "#fb9f3a"
             ],
             [
              0.8888888888888888,
              "#fdca26"
             ],
             [
              1,
              "#f0f921"
             ]
            ],
            "type": "heatmapgl"
           }
          ],
          "histogram": [
           {
            "marker": {
             "pattern": {
              "fillmode": "overlay",
              "size": 10,
              "solidity": 0.2
             }
            },
            "type": "histogram"
           }
          ],
          "histogram2d": [
           {
            "colorbar": {
             "outlinewidth": 0,
             "ticks": ""
            },
            "colorscale": [
             [
              0,
              "#0d0887"
             ],
             [
              0.1111111111111111,
              "#46039f"
             ],
             [
              0.2222222222222222,
              "#7201a8"
             ],
             [
              0.3333333333333333,
              "#9c179e"
             ],
             [
              0.4444444444444444,
              "#bd3786"
             ],
             [
              0.5555555555555556,
              "#d8576b"
             ],
             [
              0.6666666666666666,
              "#ed7953"
             ],
             [
              0.7777777777777778,
              "#fb9f3a"
             ],
             [
              0.8888888888888888,
              "#fdca26"
             ],
             [
              1,
              "#f0f921"
             ]
            ],
            "type": "histogram2d"
           }
          ],
          "histogram2dcontour": [
           {
            "colorbar": {
             "outlinewidth": 0,
             "ticks": ""
            },
            "colorscale": [
             [
              0,
              "#0d0887"
             ],
             [
              0.1111111111111111,
              "#46039f"
             ],
             [
              0.2222222222222222,
              "#7201a8"
             ],
             [
              0.3333333333333333,
              "#9c179e"
             ],
             [
              0.4444444444444444,
              "#bd3786"
             ],
             [
              0.5555555555555556,
              "#d8576b"
             ],
             [
              0.6666666666666666,
              "#ed7953"
             ],
             [
              0.7777777777777778,
              "#fb9f3a"
             ],
             [
              0.8888888888888888,
              "#fdca26"
             ],
             [
              1,
              "#f0f921"
             ]
            ],
            "type": "histogram2dcontour"
           }
          ],
          "mesh3d": [
           {
            "colorbar": {
             "outlinewidth": 0,
             "ticks": ""
            },
            "type": "mesh3d"
           }
          ],
          "parcoords": [
           {
            "line": {
             "colorbar": {
              "outlinewidth": 0,
              "ticks": ""
             }
            },
            "type": "parcoords"
           }
          ],
          "pie": [
           {
            "automargin": true,
            "type": "pie"
           }
          ],
          "scatter": [
           {
            "marker": {
             "colorbar": {
              "outlinewidth": 0,
              "ticks": ""
             }
            },
            "type": "scatter"
           }
          ],
          "scatter3d": [
           {
            "line": {
             "colorbar": {
              "outlinewidth": 0,
              "ticks": ""
             }
            },
            "marker": {
             "colorbar": {
              "outlinewidth": 0,
              "ticks": ""
             }
            },
            "type": "scatter3d"
           }
          ],
          "scattercarpet": [
           {
            "marker": {
             "colorbar": {
              "outlinewidth": 0,
              "ticks": ""
             }
            },
            "type": "scattercarpet"
           }
          ],
          "scattergeo": [
           {
            "marker": {
             "colorbar": {
              "outlinewidth": 0,
              "ticks": ""
             }
            },
            "type": "scattergeo"
           }
          ],
          "scattergl": [
           {
            "marker": {
             "colorbar": {
              "outlinewidth": 0,
              "ticks": ""
             }
            },
            "type": "scattergl"
           }
          ],
          "scattermapbox": [
           {
            "marker": {
             "colorbar": {
              "outlinewidth": 0,
              "ticks": ""
             }
            },
            "type": "scattermapbox"
           }
          ],
          "scatterpolar": [
           {
            "marker": {
             "colorbar": {
              "outlinewidth": 0,
              "ticks": ""
             }
            },
            "type": "scatterpolar"
           }
          ],
          "scatterpolargl": [
           {
            "marker": {
             "colorbar": {
              "outlinewidth": 0,
              "ticks": ""
             }
            },
            "type": "scatterpolargl"
           }
          ],
          "scatterternary": [
           {
            "marker": {
             "colorbar": {
              "outlinewidth": 0,
              "ticks": ""
             }
            },
            "type": "scatterternary"
           }
          ],
          "surface": [
           {
            "colorbar": {
             "outlinewidth": 0,
             "ticks": ""
            },
            "colorscale": [
             [
              0,
              "#0d0887"
             ],
             [
              0.1111111111111111,
              "#46039f"
             ],
             [
              0.2222222222222222,
              "#7201a8"
             ],
             [
              0.3333333333333333,
              "#9c179e"
             ],
             [
              0.4444444444444444,
              "#bd3786"
             ],
             [
              0.5555555555555556,
              "#d8576b"
             ],
             [
              0.6666666666666666,
              "#ed7953"
             ],
             [
              0.7777777777777778,
              "#fb9f3a"
             ],
             [
              0.8888888888888888,
              "#fdca26"
             ],
             [
              1,
              "#f0f921"
             ]
            ],
            "type": "surface"
           }
          ],
          "table": [
           {
            "cells": {
             "fill": {
              "color": "#EBF0F8"
             },
             "line": {
              "color": "white"
             }
            },
            "header": {
             "fill": {
              "color": "#C8D4E3"
             },
             "line": {
              "color": "white"
             }
            },
            "type": "table"
           }
          ]
         },
         "layout": {
          "annotationdefaults": {
           "arrowcolor": "#2a3f5f",
           "arrowhead": 0,
           "arrowwidth": 1
          },
          "autotypenumbers": "strict",
          "coloraxis": {
           "colorbar": {
            "outlinewidth": 0,
            "ticks": ""
           }
          },
          "colorscale": {
           "diverging": [
            [
             0,
             "#8e0152"
            ],
            [
             0.1,
             "#c51b7d"
            ],
            [
             0.2,
             "#de77ae"
            ],
            [
             0.3,
             "#f1b6da"
            ],
            [
             0.4,
             "#fde0ef"
            ],
            [
             0.5,
             "#f7f7f7"
            ],
            [
             0.6,
             "#e6f5d0"
            ],
            [
             0.7,
             "#b8e186"
            ],
            [
             0.8,
             "#7fbc41"
            ],
            [
             0.9,
             "#4d9221"
            ],
            [
             1,
             "#276419"
            ]
           ],
           "sequential": [
            [
             0,
             "#0d0887"
            ],
            [
             0.1111111111111111,
             "#46039f"
            ],
            [
             0.2222222222222222,
             "#7201a8"
            ],
            [
             0.3333333333333333,
             "#9c179e"
            ],
            [
             0.4444444444444444,
             "#bd3786"
            ],
            [
             0.5555555555555556,
             "#d8576b"
            ],
            [
             0.6666666666666666,
             "#ed7953"
            ],
            [
             0.7777777777777778,
             "#fb9f3a"
            ],
            [
             0.8888888888888888,
             "#fdca26"
            ],
            [
             1,
             "#f0f921"
            ]
           ],
           "sequentialminus": [
            [
             0,
             "#0d0887"
            ],
            [
             0.1111111111111111,
             "#46039f"
            ],
            [
             0.2222222222222222,
             "#7201a8"
            ],
            [
             0.3333333333333333,
             "#9c179e"
            ],
            [
             0.4444444444444444,
             "#bd3786"
            ],
            [
             0.5555555555555556,
             "#d8576b"
            ],
            [
             0.6666666666666666,
             "#ed7953"
            ],
            [
             0.7777777777777778,
             "#fb9f3a"
            ],
            [
             0.8888888888888888,
             "#fdca26"
            ],
            [
             1,
             "#f0f921"
            ]
           ]
          },
          "colorway": [
           "#636efa",
           "#EF553B",
           "#00cc96",
           "#ab63fa",
           "#FFA15A",
           "#19d3f3",
           "#FF6692",
           "#B6E880",
           "#FF97FF",
           "#FECB52"
          ],
          "font": {
           "color": "#2a3f5f"
          },
          "geo": {
           "bgcolor": "white",
           "lakecolor": "white",
           "landcolor": "#E5ECF6",
           "showlakes": true,
           "showland": true,
           "subunitcolor": "white"
          },
          "hoverlabel": {
           "align": "left"
          },
          "hovermode": "closest",
          "mapbox": {
           "style": "light"
          },
          "paper_bgcolor": "white",
          "plot_bgcolor": "#E5ECF6",
          "polar": {
           "angularaxis": {
            "gridcolor": "white",
            "linecolor": "white",
            "ticks": ""
           },
           "bgcolor": "#E5ECF6",
           "radialaxis": {
            "gridcolor": "white",
            "linecolor": "white",
            "ticks": ""
           }
          },
          "scene": {
           "xaxis": {
            "backgroundcolor": "#E5ECF6",
            "gridcolor": "white",
            "gridwidth": 2,
            "linecolor": "white",
            "showbackground": true,
            "ticks": "",
            "zerolinecolor": "white"
           },
           "yaxis": {
            "backgroundcolor": "#E5ECF6",
            "gridcolor": "white",
            "gridwidth": 2,
            "linecolor": "white",
            "showbackground": true,
            "ticks": "",
            "zerolinecolor": "white"
           },
           "zaxis": {
            "backgroundcolor": "#E5ECF6",
            "gridcolor": "white",
            "gridwidth": 2,
            "linecolor": "white",
            "showbackground": true,
            "ticks": "",
            "zerolinecolor": "white"
           }
          },
          "shapedefaults": {
           "line": {
            "color": "#2a3f5f"
           }
          },
          "ternary": {
           "aaxis": {
            "gridcolor": "white",
            "linecolor": "white",
            "ticks": ""
           },
           "baxis": {
            "gridcolor": "white",
            "linecolor": "white",
            "ticks": ""
           },
           "bgcolor": "#E5ECF6",
           "caxis": {
            "gridcolor": "white",
            "linecolor": "white",
            "ticks": ""
           }
          },
          "title": {
           "x": 0.05
          },
          "xaxis": {
           "automargin": true,
           "gridcolor": "white",
           "linecolor": "white",
           "ticks": "",
           "title": {
            "standoff": 15
           },
           "zerolinecolor": "white",
           "zerolinewidth": 2
          },
          "yaxis": {
           "automargin": true,
           "gridcolor": "white",
           "linecolor": "white",
           "ticks": "",
           "title": {
            "standoff": 15
           },
           "zerolinecolor": "white",
           "zerolinewidth": 2
          }
         }
        },
        "title": {
         "text": "Growth of RPM and CPM Over Time"
        },
        "xaxis": {
         "anchor": "y",
         "domain": [
          0,
          1
         ],
         "title": {
          "text": "Video Publish Time"
         }
        },
        "yaxis": {
         "anchor": "x",
         "domain": [
          0,
          1
         ],
         "title": {
          "text": "USD"
         }
        }
       }
      }
     },
     "metadata": {},
     "output_type": "display_data"
    }
   ],
   "source": [
    "fig = px.line(df_agg_video, x='Video publish time', y=['RPM (USD)', 'CPM (USD)'], \n",
    "              labels={'value': 'USD', 'variable': 'Metric'},\n",
    "              title='Growth of RPM and CPM Over Time')\n",
    "fig.update_xaxes(title_text='Video Publish Time')\n",
    "fig.update_yaxes(title_text='USD')\n",
    "# Show the plot\n",
    "fig.show()"
   ]
  },
  {
   "cell_type": "code",
   "execution_count": 15,
   "metadata": {},
   "outputs": [
    {
     "name": "stdout",
     "output_type": "stream",
     "text": [
      "+--------------------------------------------------------+---------------------------------------------------------+---------+\n",
      "| Category                                               | Hour                                                    | Views   |\n",
      "+========================================================+=========================================================+=========+\n",
      "| Most Active Hour                                       | 0                                                       | 1253559 |\n",
      "+--------------------------------------------------------+---------------------------------------------------------+---------+\n",
      "| Least Active Hour                                      | 0                                                       | 131630  |\n",
      "+--------------------------------------------------------+---------------------------------------------------------+---------+\n",
      "| Most Active Weekday                                    | Friday                                                  |         |\n",
      "+--------------------------------------------------------+---------------------------------------------------------+---------+\n",
      "| Least Active Weekday                                   | Tuesday                                                 |         |\n",
      "+--------------------------------------------------------+---------------------------------------------------------+---------+\n",
      "| Type of Content with Highest Views on Most Active Day  | How I Would Learn Data Science (If I Had to Start Over) | 3028683 |\n",
      "+--------------------------------------------------------+---------------------------------------------------------+---------+\n",
      "| Type of Content with Highest Views on Least Active Day | The Projects You Should Do To Get A Data Science Job    | 175829  |\n",
      "+--------------------------------------------------------+---------------------------------------------------------+---------+\n"
     ]
    }
   ],
   "source": [
    "from tabulate import tabulate\n",
    "\n",
    "# Optimal Posting time\n",
    "df_agg_video['Hour'] = df_agg_video['Video publish time'].dt.hour\n",
    "df_agg_video['Weekday'] = df_agg_video['Video publish time'].dt.weekday\n",
    "\n",
    "views_by_time_weekday = df_agg_video.groupby(['Hour', 'Weekday'])['Views'].max().reset_index()\n",
    "min_views_by_time_weekday = df_agg_video.groupby(['Hour', 'Weekday'])['Views'].min().reset_index()\n",
    "\n",
    "# Find the most active hour and weekday\n",
    "most_active_hour = views_by_time_weekday.loc[views_by_time_weekday['Views'].idxmax()]\n",
    "least_active_hour = views_by_time_weekday.loc[min_views_by_time_weekday['Views'].idxmin()]\n",
    "\n",
    "most_active_hour_value = most_active_hour['Hour']\n",
    "most_active_weekday = most_active_hour['Weekday']\n",
    "most_active_views = most_active_hour['Views']\n",
    "\n",
    "least_active_hour_value = least_active_hour['Hour']\n",
    "least_active_weekday = least_active_hour['Weekday']\n",
    "least_active_views = least_active_hour['Views']\n",
    "\n",
    "# Convert weekday number to name\n",
    "weekday_names = ['Monday', 'Tuesday', 'Wednesday', 'Thursday', 'Friday', 'Saturday', 'Sunday']\n",
    "most_active_weekday_name = weekday_names[int(most_active_weekday)]\n",
    "least_active_weekday_name = weekday_names[int(least_active_weekday)]\n",
    "\n",
    "most_active_day_views = df_agg_video[(df_agg_video['Weekday'] == most_active_weekday) & (df_agg_video['Hour'] == most_active_hour_value)]\n",
    "most_active_day_top_content = most_active_day_views.loc[most_active_day_views['Views'].idxmax()]['Video title']\n",
    "most_active_day_views_count = most_active_day_views['Views'].sum()\n",
    "\n",
    "least_active_day_views = df_agg_video[(df_agg_video['Weekday'] == least_active_weekday) & (df_agg_video['Hour'] == least_active_hour_value)]\n",
    "least_active_day_top_content = least_active_day_views.loc[least_active_day_views['Views'].idxmax()]['Video title']\n",
    "least_active_day_views_count = least_active_day_views['Views'].sum()\n",
    "\n",
    "# Format the output as a table\n",
    "table_data = [\n",
    "    [\"Most Active Hour\", most_active_hour_value, most_active_views],\n",
    "    [\"Least Active Hour\", least_active_hour_value, least_active_views],\n",
    "    [\"Most Active Weekday\", most_active_weekday_name, \"\"],\n",
    "    [\"Least Active Weekday\", least_active_weekday_name, \"\"],\n",
    "    [\"Type of Content with Highest Views on Most Active Day\", most_active_day_top_content, most_active_day_views_count],\n",
    "    [\"Type of Content with Highest Views on Least Active Day\", least_active_day_top_content, least_active_day_views_count]\n",
    "]\n",
    "\n",
    "print(tabulate(table_data, headers=[\"Category\", \"Hour\", \"Views\"], tablefmt=\"grid\"))\n"
   ]
  },
  {
   "cell_type": "code",
   "execution_count": 16,
   "metadata": {},
   "outputs": [
    {
     "data": {
      "image/png": "[encoded data removed]",
      "text/plain": [
       "<Figure size 1000x600 with 1 Axes>"
      ]
     },
     "metadata": {},
     "output_type": "display_data"
    }
   ],
   "source": [
    "#Generate word cloud to identify the contents audiences are intrested\n",
    "from wordcloud import WordCloud\n",
    "import matplotlib.pyplot as plt\n",
    "\n",
    "wordcloud = WordCloud(width=800, height=400, background_color='white').generate(' '.join(df_agg_video['Video title']))\n",
    "\n",
    "# Plot the word cloud\n",
    "plt.figure(figsize=(10, 6))\n",
    "plt.imshow(wordcloud, interpolation='bilinear')\n",
    "plt.axis('off')\n",
    "plt.title('Word Cloud of Audience Engagement')\n",
    "plt.show()"
   ]
  },
  {
   "cell_type": "markdown",
   "metadata": {},
   "source": [
    "Based on the analysis on the growth of RPM and CPM,it shows the growth of RPM (Revenue per thousand impressions) and CPM (Cost per thousand impressions) over time from July 2017 to January 2022. The RPM line (in red) has several peaks, with the most significant peak occurring around early 2018. The CPM line (in blue) also shows variability but remains below the RPM for most of the timeline.\n",
    "To identify which videos generated the highest revenue,<br  />\n",
    "1.The data suggests that the most active hour for viewers is around midnight (0 hours), and the most active day is Friday. Posting new videos during these times could potentially lead to higher initial views and engagement.<br />\n",
    "2.Based on the word cloud, it appears that your audience is highly interested in topics related to Data Science, Machine Learning, Python, and Projects. You can consider creating more content around these topics. This could include tutorials, case studies, or discussions about recent advancements in these fields.<br />\n",
    "By regularly reviewing your performance metrics and feedback, you'll get to understand what’s working and what’s not. You can use this information to continuously improve content and strategies.\n"
   ]
  },
  {
   "cell_type": "markdown",
   "metadata": {},
   "source": [
    "<h5>Top 5 countries by video likes added and average view percentage</h5>"
   ]
  },
  {
   "cell_type": "code",
   "execution_count": 17,
   "metadata": {},
   "outputs": [
    {
     "data": {
      "application/vnd.plotly.v1+json": {
       "config": {
        "plotlyServerURL": "https://plot.ly"
       },
       "data": [
        {
         "alignmentgroup": "True",
         "hovertemplate": "Country Code=%{x}<br>Video Likes Added=%{y}<extra></extra>",
         "legendgroup": "",
         "marker": {
          "color": "#636efa",
          "pattern": {
           "shape": ""
          }
         },
         "name": "",
         "offsetgroup": "",
         "orientation": "v",
         "showlegend": false,
         "textposition": "auto",
         "type": "bar",
         "x": [
          "IN",
          "US",
          "BR",
          "GB",
          "CA"
         ],
         "xaxis": "x",
         "y": [
          52814,
          52097,
          9084,
          8567,
          7765
         ],
         "yaxis": "y"
        }
       ],
       "layout": {
        "barmode": "relative",
        "legend": {
         "tracegroupgap": 0
        },
        "template": {
         "data": {
          "bar": [
           {
            "error_x": {
             "color": "#2a3f5f"
            },
            "error_y": {
             "color": "#2a3f5f"
            },
            "marker": {
             "line": {
              "color": "#E5ECF6",
              "width": 0.5
             },
             "pattern": {
              "fillmode": "overlay",
              "size": 10,
              "solidity": 0.2
             }
            },
            "type": "bar"
           }
          ],
          "barpolar": [
           {
            "marker": {
             "line": {
              "color": "#E5ECF6",
              "width": 0.5
             },
             "pattern": {
              "fillmode": "overlay",
              "size": 10,
              "solidity": 0.2
             }
            },
            "type": "barpolar"
           }
          ],
          "carpet": [
           {
            "aaxis": {
             "endlinecolor": "#2a3f5f",
             "gridcolor": "white",
             "linecolor": "white",
             "minorgridcolor": "white",
             "startlinecolor": "#2a3f5f"
            },
            "baxis": {
             "endlinecolor": "#2a3f5f",
             "gridcolor": "white",
             "linecolor": "white",
             "minorgridcolor": "white",
             "startlinecolor": "#2a3f5f"
            },
            "type": "carpet"
           }
          ],
          "choropleth": [
           {
            "colorbar": {
             "outlinewidth": 0,
             "ticks": ""
            },
            "type": "choropleth"
           }
          ],
          "contour": [
           {
            "colorbar": {
             "outlinewidth": 0,
             "ticks": ""
            },
            "colorscale": [
             [
              0,
              "#0d0887"
             ],
             [
              0.1111111111111111,
              "#46039f"
             ],
             [
              0.2222222222222222,
              "#7201a8"
             ],
             [
              0.3333333333333333,
              "#9c179e"
             ],
             [
              0.4444444444444444,
              "#bd3786"
             ],
             [
              0.5555555555555556,
              "#d8576b"
             ],
             [
              0.6666666666666666,
              "#ed7953"
             ],
             [
              0.7777777777777778,
              "#fb9f3a"
             ],
             [
              0.8888888888888888,
              "#fdca26"
             ],
             [
              1,
              "#f0f921"
             ]
            ],
            "type": "contour"
           }
          ],
          "contourcarpet": [
           {
            "colorbar": {
             "outlinewidth": 0,
             "ticks": ""
            },
            "type": "contourcarpet"
           }
          ],
          "heatmap": [
           {
            "colorbar": {
             "outlinewidth": 0,
             "ticks": ""
            },
            "colorscale": [
             [
              0,
              "#0d0887"
             ],
             [
              0.1111111111111111,
              "#46039f"
             ],
             [
              0.2222222222222222,
              "#7201a8"
             ],
             [
              0.3333333333333333,
              "#9c179e"
             ],
             [
              0.4444444444444444,
              "#bd3786"
             ],
             [
              0.5555555555555556,
              "#d8576b"
             ],
             [
              0.6666666666666666,
              "#ed7953"
             ],
             [
              0.7777777777777778,
              "#fb9f3a"
             ],
             [
              0.8888888888888888,
              "#fdca26"
             ],
             [
              1,
              "#f0f921"
             ]
            ],
            "type": "heatmap"
           }
          ],
          "heatmapgl": [
           {
            "colorbar": {
             "outlinewidth": 0,
             "ticks": ""
            },
            "colorscale": [
             [
              0,
              "#0d0887"
             ],
             [
              0.1111111111111111,
              "#46039f"
             ],
             [
              0.2222222222222222,
              "#7201a8"
             ],
             [
              0.3333333333333333,
              "#9c179e"
             ],
             [
              0.4444444444444444,
              "#bd3786"
             ],
             [
              0.5555555555555556,
              "#d8576b"
             ],
             [
              0.6666666666666666,
              "#ed7953"
             ],
             [
              0.7777777777777778,
              "#fb9f3a"
             ],
             [
              0.8888888888888888,
              "#fdca26"
             ],
             [
              1,
              "#f0f921"
             ]
            ],
            "type": "heatmapgl"
           }
          ],
          "histogram": [
           {
            "marker": {
             "pattern": {
              "fillmode": "overlay",
              "size": 10,
              "solidity": 0.2
             }
            },
            "type": "histogram"
           }
          ],
          "histogram2d": [
           {
            "colorbar": {
             "outlinewidth": 0,
             "ticks": ""
            },
            "colorscale": [
             [
              0,
              "#0d0887"
             ],
             [
              0.1111111111111111,
              "#46039f"
             ],
             [
              0.2222222222222222,
              "#7201a8"
             ],
             [
              0.3333333333333333,
              "#9c179e"
             ],
             [
              0.4444444444444444,
              "#bd3786"
             ],
             [
              0.5555555555555556,
              "#d8576b"
             ],
             [
              0.6666666666666666,
              "#ed7953"
             ],
             [
              0.7777777777777778,
              "#fb9f3a"
             ],
             [
              0.8888888888888888,
              "#fdca26"
             ],
             [
              1,
              "#f0f921"
             ]
            ],
            "type": "histogram2d"
           }
          ],
          "histogram2dcontour": [
           {
            "colorbar": {
             "outlinewidth": 0,
             "ticks": ""
            },
            "colorscale": [
             [
              0,
              "#0d0887"
             ],
             [
              0.1111111111111111,
              "#46039f"
             ],
             [
              0.2222222222222222,
              "#7201a8"
             ],
             [
              0.3333333333333333,
              "#9c179e"
             ],
             [
              0.4444444444444444,
              "#bd3786"
             ],
             [
              0.5555555555555556,
              "#d8576b"
             ],
             [
              0.6666666666666666,
              "#ed7953"
             ],
             [
              0.7777777777777778,
              "#fb9f3a"
             ],
             [
              0.8888888888888888,
              "#fdca26"
             ],
             [
              1,
              "#f0f921"
             ]
            ],
            "type": "histogram2dcontour"
           }
          ],
          "mesh3d": [
           {
            "colorbar": {
             "outlinewidth": 0,
             "ticks": ""
            },
            "type": "mesh3d"
           }
          ],
          "parcoords": [
           {
            "line": {
             "colorbar": {
              "outlinewidth": 0,
              "ticks": ""
             }
            },
            "type": "parcoords"
           }
          ],
          "pie": [
           {
            "automargin": true,
            "type": "pie"
           }
          ],
          "scatter": [
           {
            "marker": {
             "colorbar": {
              "outlinewidth": 0,
              "ticks": ""
             }
            },
            "type": "scatter"
           }
          ],
          "scatter3d": [
           {
            "line": {
             "colorbar": {
              "outlinewidth": 0,
              "ticks": ""
             }
            },
            "marker": {
             "colorbar": {
              "outlinewidth": 0,
              "ticks": ""
             }
            },
            "type": "scatter3d"
           }
          ],
          "scattercarpet": [
           {
            "marker": {
             "colorbar": {
              "outlinewidth": 0,
              "ticks": ""
             }
            },
            "type": "scattercarpet"
           }
          ],
          "scattergeo": [
           {
            "marker": {
             "colorbar": {
              "outlinewidth": 0,
              "ticks": ""
             }
            },
            "type": "scattergeo"
           }
          ],
          "scattergl": [
           {
            "marker": {
             "colorbar": {
              "outlinewidth": 0,
              "ticks": ""
             }
            },
            "type": "scattergl"
           }
          ],
          "scattermapbox": [
           {
            "marker": {
             "colorbar": {
              "outlinewidth": 0,
              "ticks": ""
             }
            },
            "type": "scattermapbox"
           }
          ],
          "scatterpolar": [
           {
            "marker": {
             "colorbar": {
              "outlinewidth": 0,
              "ticks": ""
             }
            },
            "type": "scatterpolar"
           }
          ],
          "scatterpolargl": [
           {
            "marker": {
             "colorbar": {
              "outlinewidth": 0,
              "ticks": ""
             }
            },
            "type": "scatterpolargl"
           }
          ],
          "scatterternary": [
           {
            "marker": {
             "colorbar": {
              "outlinewidth": 0,
              "ticks": ""
             }
            },
            "type": "scatterternary"
           }
          ],
          "surface": [
           {
            "colorbar": {
             "outlinewidth": 0,
             "ticks": ""
            },
            "colorscale": [
             [
              0,
              "#0d0887"
             ],
             [
              0.1111111111111111,
              "#46039f"
             ],
             [
              0.2222222222222222,
              "#7201a8"
             ],
             [
              0.3333333333333333,
              "#9c179e"
             ],
             [
              0.4444444444444444,
              "#bd3786"
             ],
             [
              0.5555555555555556,
              "#d8576b"
             ],
             [
              0.6666666666666666,
              "#ed7953"
             ],
             [
              0.7777777777777778,
              "#fb9f3a"
             ],
             [
              0.8888888888888888,
              "#fdca26"
             ],
             [
              1,
              "#f0f921"
             ]
            ],
            "type": "surface"
           }
          ],
          "table": [
           {
            "cells": {
             "fill": {
              "color": "#EBF0F8"
             },
             "line": {
              "color": "white"
             }
            },
            "header": {
             "fill": {
              "color": "#C8D4E3"
             },
             "line": {
              "color": "white"
             }
            },
            "type": "table"
           }
          ]
         },
         "layout": {
          "annotationdefaults": {
           "arrowcolor": "#2a3f5f",
           "arrowhead": 0,
           "arrowwidth": 1
          },
          "autotypenumbers": "strict",
          "coloraxis": {
           "colorbar": {
            "outlinewidth": 0,
            "ticks": ""
           }
          },
          "colorscale": {
           "diverging": [
            [
             0,
             "#8e0152"
            ],
            [
             0.1,
             "#c51b7d"
            ],
            [
             0.2,
             "#de77ae"
            ],
            [
             0.3,
             "#f1b6da"
            ],
            [
             0.4,
             "#fde0ef"
            ],
            [
             0.5,
             "#f7f7f7"
            ],
            [
             0.6,
             "#e6f5d0"
            ],
            [
             0.7,
             "#b8e186"
            ],
            [
             0.8,
             "#7fbc41"
            ],
            [
             0.9,
             "#4d9221"
            ],
            [
             1,
             "#276419"
            ]
           ],
           "sequential": [
            [
             0,
             "#0d0887"
            ],
            [
             0.1111111111111111,
             "#46039f"
            ],
            [
             0.2222222222222222,
             "#7201a8"
            ],
            [
             0.3333333333333333,
             "#9c179e"
            ],
            [
             0.4444444444444444,
             "#bd3786"
            ],
            [
             0.5555555555555556,
             "#d8576b"
            ],
            [
             0.6666666666666666,
             "#ed7953"
            ],
            [
             0.7777777777777778,
             "#fb9f3a"
            ],
            [
             0.8888888888888888,
             "#fdca26"
            ],
            [
             1,
             "#f0f921"
            ]
           ],
           "sequentialminus": [
            [
             0,
             "#0d0887"
            ],
            [
             0.1111111111111111,
             "#46039f"
            ],
            [
             0.2222222222222222,
             "#7201a8"
            ],
            [
             0.3333333333333333,
             "#9c179e"
            ],
            [
             0.4444444444444444,
             "#bd3786"
            ],
            [
             0.5555555555555556,
             "#d8576b"
            ],
            [
             0.6666666666666666,
             "#ed7953"
            ],
            [
             0.7777777777777778,
             "#fb9f3a"
            ],
            [
             0.8888888888888888,
             "#fdca26"
            ],
            [
             1,
             "#f0f921"
            ]
           ]
          },
          "colorway": [
           "#636efa",
           "#EF553B",
           "#00cc96",
           "#ab63fa",
           "#FFA15A",
           "#19d3f3",
           "#FF6692",
           "#B6E880",
           "#FF97FF",
           "#FECB52"
          ],
          "font": {
           "color": "#2a3f5f"
          },
          "geo": {
           "bgcolor": "white",
           "lakecolor": "white",
           "landcolor": "#E5ECF6",
           "showlakes": true,
           "showland": true,
           "subunitcolor": "white"
          },
          "hoverlabel": {
           "align": "left"
          },
          "hovermode": "closest",
          "mapbox": {
           "style": "light"
          },
          "paper_bgcolor": "white",
          "plot_bgcolor": "#E5ECF6",
          "polar": {
           "angularaxis": {
            "gridcolor": "white",
            "linecolor": "white",
            "ticks": ""
           },
           "bgcolor": "#E5ECF6",
           "radialaxis": {
            "gridcolor": "white",
            "linecolor": "white",
            "ticks": ""
           }
          },
          "scene": {
           "xaxis": {
            "backgroundcolor": "#E5ECF6",
            "gridcolor": "white",
            "gridwidth": 2,
            "linecolor": "white",
            "showbackground": true,
            "ticks": "",
            "zerolinecolor": "white"
           },
           "yaxis": {
            "backgroundcolor": "#E5ECF6",
            "gridcolor": "white",
            "gridwidth": 2,
            "linecolor": "white",
            "showbackground": true,
            "ticks": "",
            "zerolinecolor": "white"
           },
           "zaxis": {
            "backgroundcolor": "#E5ECF6",
            "gridcolor": "white",
            "gridwidth": 2,
            "linecolor": "white",
            "showbackground": true,
            "ticks": "",
            "zerolinecolor": "white"
           }
          },
          "shapedefaults": {
           "line": {
            "color": "#2a3f5f"
           }
          },
          "ternary": {
           "aaxis": {
            "gridcolor": "white",
            "linecolor": "white",
            "ticks": ""
           },
           "baxis": {
            "gridcolor": "white",
            "linecolor": "white",
            "ticks": ""
           },
           "bgcolor": "#E5ECF6",
           "caxis": {
            "gridcolor": "white",
            "linecolor": "white",
            "ticks": ""
           }
          },
          "title": {
           "x": 0.05
          },
          "xaxis": {
           "automargin": true,
           "gridcolor": "white",
           "linecolor": "white",
           "ticks": "",
           "title": {
            "standoff": 15
           },
           "zerolinecolor": "white",
           "zerolinewidth": 2
          },
          "yaxis": {
           "automargin": true,
           "gridcolor": "white",
           "linecolor": "white",
           "ticks": "",
           "title": {
            "standoff": 15
           },
           "zerolinecolor": "white",
           "zerolinewidth": 2
          }
         }
        },
        "title": {
         "text": "Top 5 Countries by Video Likes Added"
        },
        "xaxis": {
         "anchor": "y",
         "domain": [
          0,
          1
         ],
         "title": {
          "text": "Country Code"
         }
        },
        "yaxis": {
         "anchor": "x",
         "domain": [
          0,
          1
         ],
         "title": {
          "text": "Video Likes Added"
         }
        }
       }
      }
     },
     "metadata": {},
     "output_type": "display_data"
    },
    {
     "data": {
      "application/vnd.plotly.v1+json": {
       "config": {
        "plotlyServerURL": "https://plot.ly"
       },
       "data": [
        {
         "alignmentgroup": "True",
         "hovertemplate": "Country Code=%{x}<br>Average View Percentage=%{y}<extra></extra>",
         "legendgroup": "",
         "marker": {
          "color": "#636efa",
          "pattern": {
           "shape": ""
          }
         },
         "name": "",
         "offsetgroup": "",
         "orientation": "v",
         "showlegend": false,
         "textposition": "auto",
         "type": "bar",
         "x": [
          "TZ",
          "KG",
          "NO",
          "BY",
          "CD"
         ],
         "xaxis": "x",
         "y": [
          4.967796610169492,
          4.618173447537473,
          3.5869677966101694,
          3.3365,
          2.9401234567901238
         ],
         "yaxis": "y"
        }
       ],
       "layout": {
        "barmode": "relative",
        "legend": {
         "tracegroupgap": 0
        },
        "template": {
         "data": {
          "bar": [
           {
            "error_x": {
             "color": "#2a3f5f"
            },
            "error_y": {
             "color": "#2a3f5f"
            },
            "marker": {
             "line": {
              "color": "#E5ECF6",
              "width": 0.5
             },
             "pattern": {
              "fillmode": "overlay",
              "size": 10,
              "solidity": 0.2
             }
            },
            "type": "bar"
           }
          ],
          "barpolar": [
           {
            "marker": {
             "line": {
              "color": "#E5ECF6",
              "width": 0.5
             },
             "pattern": {
              "fillmode": "overlay",
              "size": 10,
              "solidity": 0.2
             }
            },
            "type": "barpolar"
           }
          ],
          "carpet": [
           {
            "aaxis": {
             "endlinecolor": "#2a3f5f",
             "gridcolor": "white",
             "linecolor": "white",
             "minorgridcolor": "white",
             "startlinecolor": "#2a3f5f"
            },
            "baxis": {
             "endlinecolor": "#2a3f5f",
             "gridcolor": "white",
             "linecolor": "white",
             "minorgridcolor": "white",
             "startlinecolor": "#2a3f5f"
            },
            "type": "carpet"
           }
          ],
          "choropleth": [
           {
            "colorbar": {
             "outlinewidth": 0,
             "ticks": ""
            },
            "type": "choropleth"
           }
          ],
          "contour": [
           {
            "colorbar": {
             "outlinewidth": 0,
             "ticks": ""
            },
            "colorscale": [
             [
              0,
              "#0d0887"
             ],
             [
              0.1111111111111111,
              "#46039f"
             ],
             [
              0.2222222222222222,
              "#7201a8"
             ],
             [
              0.3333333333333333,
              "#9c179e"
             ],
             [
              0.4444444444444444,
              "#bd3786"
             ],
             [
              0.5555555555555556,
              "#d8576b"
             ],
             [
              0.6666666666666666,
              "#ed7953"
             ],
             [
              0.7777777777777778,
              "#fb9f3a"
             ],
             [
              0.8888888888888888,
              "#fdca26"
             ],
             [
              1,
              "#f0f921"
             ]
            ],
            "type": "contour"
           }
          ],
          "contourcarpet": [
           {
            "colorbar": {
             "outlinewidth": 0,
             "ticks": ""
            },
            "type": "contourcarpet"
           }
          ],
          "heatmap": [
           {
            "colorbar": {
             "outlinewidth": 0,
             "ticks": ""
            },
            "colorscale": [
             [
              0,
              "#0d0887"
             ],
             [
              0.1111111111111111,
              "#46039f"
             ],
             [
              0.2222222222222222,
              "#7201a8"
             ],
             [
              0.3333333333333333,
              "#9c179e"
             ],
             [
              0.4444444444444444,
              "#bd3786"
             ],
             [
              0.5555555555555556,
              "#d8576b"
             ],
             [
              0.6666666666666666,
              "#ed7953"
             ],
             [
              0.7777777777777778,
              "#fb9f3a"
             ],
             [
              0.8888888888888888,
              "#fdca26"
             ],
             [
              1,
              "#f0f921"
             ]
            ],
            "type": "heatmap"
           }
          ],
          "heatmapgl": [
           {
            "colorbar": {
             "outlinewidth": 0,
             "ticks": ""
            },
            "colorscale": [
             [
              0,
              "#0d0887"
             ],
             [
              0.1111111111111111,
              "#46039f"
             ],
             [
              0.2222222222222222,
              "#7201a8"
             ],
             [
              0.3333333333333333,
              "#9c179e"
             ],
             [
              0.4444444444444444,
              "#bd3786"
             ],
             [
              0.5555555555555556,
              "#d8576b"
             ],
             [
              0.6666666666666666,
              "#ed7953"
             ],
             [
              0.7777777777777778,
              "#fb9f3a"
             ],
             [
              0.8888888888888888,
              "#fdca26"
             ],
             [
              1,
              "#f0f921"
             ]
            ],
            "type": "heatmapgl"
           }
          ],
          "histogram": [
           {
            "marker": {
             "pattern": {
              "fillmode": "overlay",
              "size": 10,
              "solidity": 0.2
             }
            },
            "type": "histogram"
           }
          ],
          "histogram2d": [
           {
            "colorbar": {
             "outlinewidth": 0,
             "ticks": ""
            },
            "colorscale": [
             [
              0,
              "#0d0887"
             ],
             [
              0.1111111111111111,
              "#46039f"
             ],
             [
              0.2222222222222222,
              "#7201a8"
             ],
             [
              0.3333333333333333,
              "#9c179e"
             ],
             [
              0.4444444444444444,
              "#bd3786"
             ],
             [
              0.5555555555555556,
              "#d8576b"
             ],
             [
              0.6666666666666666,
              "#ed7953"
             ],
             [
              0.7777777777777778,
              "#fb9f3a"
             ],
             [
              0.8888888888888888,
              "#fdca26"
             ],
             [
              1,
              "#f0f921"
             ]
            ],
            "type": "histogram2d"
           }
          ],
          "histogram2dcontour": [
           {
            "colorbar": {
             "outlinewidth": 0,
             "ticks": ""
            },
            "colorscale": [
             [
              0,
              "#0d0887"
             ],
             [
              0.1111111111111111,
              "#46039f"
             ],
             [
              0.2222222222222222,
              "#7201a8"
             ],
             [
              0.3333333333333333,
              "#9c179e"
             ],
             [
              0.4444444444444444,
              "#bd3786"
             ],
             [
              0.5555555555555556,
              "#d8576b"
             ],
             [
              0.6666666666666666,
              "#ed7953"
             ],
             [
              0.7777777777777778,
              "#fb9f3a"
             ],
             [
              0.8888888888888888,
              "#fdca26"
             ],
             [
              1,
              "#f0f921"
             ]
            ],
            "type": "histogram2dcontour"
           }
          ],
          "mesh3d": [
           {
            "colorbar": {
             "outlinewidth": 0,
             "ticks": ""
            },
            "type": "mesh3d"
           }
          ],
          "parcoords": [
           {
            "line": {
             "colorbar": {
              "outlinewidth": 0,
              "ticks": ""
             }
            },
            "type": "parcoords"
           }
          ],
          "pie": [
           {
            "automargin": true,
            "type": "pie"
           }
          ],
          "scatter": [
           {
            "marker": {
             "colorbar": {
              "outlinewidth": 0,
              "ticks": ""
             }
            },
            "type": "scatter"
           }
          ],
          "scatter3d": [
           {
            "line": {
             "colorbar": {
              "outlinewidth": 0,
              "ticks": ""
             }
            },
            "marker": {
             "colorbar": {
              "outlinewidth": 0,
              "ticks": ""
             }
            },
            "type": "scatter3d"
           }
          ],
          "scattercarpet": [
           {
            "marker": {
             "colorbar": {
              "outlinewidth": 0,
              "ticks": ""
             }
            },
            "type": "scattercarpet"
           }
          ],
          "scattergeo": [
           {
            "marker": {
             "colorbar": {
              "outlinewidth": 0,
              "ticks": ""
             }
            },
            "type": "scattergeo"
           }
          ],
          "scattergl": [
           {
            "marker": {
             "colorbar": {
              "outlinewidth": 0,
              "ticks": ""
             }
            },
            "type": "scattergl"
           }
          ],
          "scattermapbox": [
           {
            "marker": {
             "colorbar": {
              "outlinewidth": 0,
              "ticks": ""
             }
            },
            "type": "scattermapbox"
           }
          ],
          "scatterpolar": [
           {
            "marker": {
             "colorbar": {
              "outlinewidth": 0,
              "ticks": ""
             }
            },
            "type": "scatterpolar"
           }
          ],
          "scatterpolargl": [
           {
            "marker": {
             "colorbar": {
              "outlinewidth": 0,
              "ticks": ""
             }
            },
            "type": "scatterpolargl"
           }
          ],
          "scatterternary": [
           {
            "marker": {
             "colorbar": {
              "outlinewidth": 0,
              "ticks": ""
             }
            },
            "type": "scatterternary"
           }
          ],
          "surface": [
           {
            "colorbar": {
             "outlinewidth": 0,
             "ticks": ""
            },
            "colorscale": [
             [
              0,
              "#0d0887"
             ],
             [
              0.1111111111111111,
              "#46039f"
             ],
             [
              0.2222222222222222,
              "#7201a8"
             ],
             [
              0.3333333333333333,
              "#9c179e"
             ],
             [
              0.4444444444444444,
              "#bd3786"
             ],
             [
              0.5555555555555556,
              "#d8576b"
             ],
             [
              0.6666666666666666,
              "#ed7953"
             ],
             [
              0.7777777777777778,
              "#fb9f3a"
             ],
             [
              0.8888888888888888,
              "#fdca26"
             ],
             [
              1,
              "#f0f921"
             ]
            ],
            "type": "surface"
           }
          ],
          "table": [
           {
            "cells": {
             "fill": {
              "color": "#EBF0F8"
             },
             "line": {
              "color": "white"
             }
            },
            "header": {
             "fill": {
              "color": "#C8D4E3"
             },
             "line": {
              "color": "white"
             }
            },
            "type": "table"
           }
          ]
         },
         "layout": {
          "annotationdefaults": {
           "arrowcolor": "#2a3f5f",
           "arrowhead": 0,
           "arrowwidth": 1
          },
          "autotypenumbers": "strict",
          "coloraxis": {
           "colorbar": {
            "outlinewidth": 0,
            "ticks": ""
           }
          },
          "colorscale": {
           "diverging": [
            [
             0,
             "#8e0152"
            ],
            [
             0.1,
             "#c51b7d"
            ],
            [
             0.2,
             "#de77ae"
            ],
            [
             0.3,
             "#f1b6da"
            ],
            [
             0.4,
             "#fde0ef"
            ],
            [
             0.5,
             "#f7f7f7"
            ],
            [
             0.6,
             "#e6f5d0"
            ],
            [
             0.7,
             "#b8e186"
            ],
            [
             0.8,
             "#7fbc41"
            ],
            [
             0.9,
             "#4d9221"
            ],
            [
             1,
             "#276419"
            ]
           ],
           "sequential": [
            [
             0,
             "#0d0887"
            ],
            [
             0.1111111111111111,
             "#46039f"
            ],
            [
             0.2222222222222222,
             "#7201a8"
            ],
            [
             0.3333333333333333,
             "#9c179e"
            ],
            [
             0.4444444444444444,
             "#bd3786"
            ],
            [
             0.5555555555555556,
             "#d8576b"
            ],
            [
             0.6666666666666666,
             "#ed7953"
            ],
            [
             0.7777777777777778,
             "#fb9f3a"
            ],
            [
             0.8888888888888888,
             "#fdca26"
            ],
            [
             1,
             "#f0f921"
            ]
           ],
           "sequentialminus": [
            [
             0,
             "#0d0887"
            ],
            [
             0.1111111111111111,
             "#46039f"
            ],
            [
             0.2222222222222222,
             "#7201a8"
            ],
            [
             0.3333333333333333,
             "#9c179e"
            ],
            [
             0.4444444444444444,
             "#bd3786"
            ],
            [
             0.5555555555555556,
             "#d8576b"
            ],
            [
             0.6666666666666666,
             "#ed7953"
            ],
            [
             0.7777777777777778,
             "#fb9f3a"
            ],
            [
             0.8888888888888888,
             "#fdca26"
            ],
            [
             1,
             "#f0f921"
            ]
           ]
          },
          "colorway": [
           "#636efa",
           "#EF553B",
           "#00cc96",
           "#ab63fa",
           "#FFA15A",
           "#19d3f3",
           "#FF6692",
           "#B6E880",
           "#FF97FF",
           "#FECB52"
          ],
          "font": {
           "color": "#2a3f5f"
          },
          "geo": {
           "bgcolor": "white",
           "lakecolor": "white",
           "landcolor": "#E5ECF6",
           "showlakes": true,
           "showland": true,
           "subunitcolor": "white"
          },
          "hoverlabel": {
           "align": "left"
          },
          "hovermode": "closest",
          "mapbox": {
           "style": "light"
          },
          "paper_bgcolor": "white",
          "plot_bgcolor": "#E5ECF6",
          "polar": {
           "angularaxis": {
            "gridcolor": "white",
            "linecolor": "white",
            "ticks": ""
           },
           "bgcolor": "#E5ECF6",
           "radialaxis": {
            "gridcolor": "white",
            "linecolor": "white",
            "ticks": ""
           }
          },
          "scene": {
           "xaxis": {
            "backgroundcolor": "#E5ECF6",
            "gridcolor": "white",
            "gridwidth": 2,
            "linecolor": "white",
            "showbackground": true,
            "ticks": "",
            "zerolinecolor": "white"
           },
           "yaxis": {
            "backgroundcolor": "#E5ECF6",
            "gridcolor": "white",
            "gridwidth": 2,
            "linecolor": "white",
            "showbackground": true,
            "ticks": "",
            "zerolinecolor": "white"
           },
           "zaxis": {
            "backgroundcolor": "#E5ECF6",
            "gridcolor": "white",
            "gridwidth": 2,
            "linecolor": "white",
            "showbackground": true,
            "ticks": "",
            "zerolinecolor": "white"
           }
          },
          "shapedefaults": {
           "line": {
            "color": "#2a3f5f"
           }
          },
          "ternary": {
           "aaxis": {
            "gridcolor": "white",
            "linecolor": "white",
            "ticks": ""
           },
           "baxis": {
            "gridcolor": "white",
            "linecolor": "white",
            "ticks": ""
           },
           "bgcolor": "#E5ECF6",
           "caxis": {
            "gridcolor": "white",
            "linecolor": "white",
            "ticks": ""
           }
          },
          "title": {
           "x": 0.05
          },
          "xaxis": {
           "automargin": true,
           "gridcolor": "white",
           "linecolor": "white",
           "ticks": "",
           "title": {
            "standoff": 15
           },
           "zerolinecolor": "white",
           "zerolinewidth": 2
          },
          "yaxis": {
           "automargin": true,
           "gridcolor": "white",
           "linecolor": "white",
           "ticks": "",
           "title": {
            "standoff": 15
           },
           "zerolinecolor": "white",
           "zerolinewidth": 2
          }
         }
        },
        "title": {
         "text": "Top 5 Countries by Average View Percentage"
        },
        "xaxis": {
         "anchor": "y",
         "domain": [
          0,
          1
         ],
         "title": {
          "text": "Country Code"
         }
        },
        "yaxis": {
         "anchor": "x",
         "domain": [
          0,
          1
         ],
         "title": {
          "text": "Average View Percentage"
         }
        }
       }
      }
     },
     "metadata": {},
     "output_type": "display_data"
    }
   ],
   "source": [
    "#Top 5 countries by video likes added\n",
    "country_likes = df_agg_subscription.groupby('Country Code')['Video Likes Added'].sum().reset_index()\n",
    "top_countries_likes = country_likes.nlargest(5, 'Video Likes Added')\n",
    "fig_likes = px.bar(top_countries_likes, x='Country Code', y='Video Likes Added', \n",
    "                    title='Top 5 Countries by Video Likes Added')\n",
    "fig_likes.show()\n",
    "\n",
    "#Top 5 countries with average view percentage\n",
    "top_countries_view_ratio = df_agg_subscription.sort_values('Average View Percentage', ascending=False).head(5)\n",
    "fig_view_ratio = px.bar(top_countries_view_ratio, x='Country Code', y='Average View Percentage', \n",
    "                        title='Top 5 Countries by Average View Percentage')\n",
    "fig_view_ratio.show()\n",
    "\n"
   ]
  },
  {
   "cell_type": "markdown",
   "metadata": {},
   "source": [
    "<h5></h5>\n",
    "<br />K-means clustering to analyze the factors affecting Ken Jee's YouTube channel\n",
    "The 3 factors that can affect the profits of the Ken Jee:<br />\n",
    "Average Watch Time: This metric indicates the average duration for which viewers watch the content. Higher average watch time typically correlates with higher engagement and retention, which can lead to increased ad revenue and monetization opportunities.<br />\n",
    "User Subscriptions Added/Removed: The number of subscribers gained or lost over a certain period can significantly affect profits. Increasing the subscriber base through added subscriptions can lead to higher viewer retention, more views, and ultimately more revenue. Conversely, a high rate of user subscriptions removed may indicate dissatisfaction with the content, leading to decreased viewership and revenue.<br />\n",
    "Engagement Level: Engagement level encompasses various metrics such as likes, dislikes, comments, and user interaction with the content. Higher engagement levels indicate active audience participation and interest in the content, which can translate to higher viewer retention, increased visibility, and ultimately higher profits through enhanced monetization opportunities."
   ]
  },
  {
   "cell_type": "code",
   "execution_count": 18,
   "metadata": {},
   "outputs": [],
   "source": [
    "#gives us a measure of overall subscriber growth or decline.\n",
    "df_agg_subscription['Net Subscriptions'] = df_agg_subscription['User Subscriptions Added'] - df_agg_subscription['User Subscriptions Removed']\n"
   ]
  },
  {
   "cell_type": "code",
   "execution_count": 19,
   "metadata": {},
   "outputs": [
    {
     "data": {
      "image/png": "[encoded data removed]",
      "text/plain": [
       "<Figure size 800x600 with 1 Axes>"
      ]
     },
     "metadata": {},
     "output_type": "display_data"
    }
   ],
   "source": [
    "from sklearn.cluster import KMeans\n",
    "from sklearn.preprocessing import StandardScaler\n",
    "import numpy as np\n",
    "\n",
    "\n",
    "features = ['Average Watch Time', 'User Subscriptions Added', 'Net Subscriptions']\n",
    "\n",
    "\n",
    "df_agg_subscription.dropna(subset=features, inplace=True)\n",
    "\n",
    "\n",
    "scaler = StandardScaler()\n",
    "scaled_data = scaler.fit_transform(df_agg_subscription[features])\n",
    "\n",
    "wcss = []\n",
    "for i in range(1, 10):  \n",
    "    kmeans = KMeans(n_clusters=i, init='k-means++', random_state=42)\n",
    "    kmeans.fit(scaled_data)\n",
    "    wcss.append(kmeans.inertia_)\n",
    "\n",
    "plt.figure(figsize=(8, 6))\n",
    "plt.plot(range(1, 10), wcss, marker='o', linestyle='--')\n",
    "plt.title('Elbow Method')\n",
    "plt.xlabel('Number of Clusters (k)')\n",
    "plt.ylabel('WCSS')\n",
    "plt.xticks(range(1, 10))\n",
    "plt.grid(True)\n",
    "plt.show()\n"
   ]
  },
  {
   "cell_type": "code",
   "execution_count": 20,
   "metadata": {},
   "outputs": [
    {
     "data": {
      "image/png": "[encoded data removed]",
      "text/plain": [
       "<Figure size 1000x600 with 1 Axes>"
      ]
     },
     "metadata": {},
     "output_type": "display_data"
    },
    {
     "name": "stdout",
     "output_type": "stream",
     "text": [
      "Cluster Centers:\n",
      "   Average Watch Time  User Subscriptions Added  Net Subscriptions\n",
      "0          157.391102                  2.213814           2.160082\n",
      "1          175.380882               9579.500000        9481.500000\n",
      "2          634.442994                  0.761280           0.734652\n"
     ]
    }
   ],
   "source": [
    "kmeans = KMeans(n_clusters=3, random_state=42)\n",
    "df_agg_subscription['Cluster'] = kmeans.fit_predict(scaled_data)\n",
    "\n",
    "\n",
    "plt.figure(figsize=(10, 6))\n",
    "for cluster in df_agg_subscription['Cluster'].unique():\n",
    "    cluster_data = df_agg_subscription[df_agg_subscription['Cluster'] == cluster]\n",
    "    plt.scatter(cluster_data['Average Watch Time'], cluster_data['User Subscriptions Added'], label=f'Cluster {cluster}')\n",
    "\n",
    "plt.title('K-means Clustering')\n",
    "plt.xlabel('Average Watch Time (Scaled)')\n",
    "plt.ylabel('User Subscriptions Added (Scaled)')\n",
    "plt.legend()\n",
    "plt.grid(True)\n",
    "plt.show()\n",
    "\n",
    "\n",
    "print(\"Cluster Centers:\")\n",
    "print(pd.DataFrame(scaler.inverse_transform(kmeans.cluster_centers_), columns=features))\n",
    "\n"
   ]
  },
  {
   "cell_type": "markdown",
   "metadata": {},
   "source": [
    "Cluster 0 (Blue): This cluster represents users with a low average watch time of approximately 157.39 minutes and a low number of subscriptions added (around 2.21). These users are not spending much time watching the content and are not subscribing much. <br />\n",
    "Solution: The content creator could focus on improving content quality or relevance to increase watch time. Since these users are not subscribing much, the creator could also work on improving the calls-to-action for subscription.<br />\n",
    "Cluster 1 (Green): This cluster represents users with a moderate average watch time of approximately 175.38 minutes but a very high number of subscriptions added (around 9579.5). These users are spending a decent amount of time watching the content and are subscribing a lot.<br /> Solution: So The content creator is doing well with this group. They could continue to maintain the content quality and variety to keep these users engaged and subscribing.<br />\n",
    "Cluster 2 (Orange): This cluster represents users with a very high average watch time of approximately 634.44 minutes but a low number of subscriptions added (around 0.76). These users are highly engaged with the content (high watch times), but are not subscribing much.<br /> Solution: The content creator could focus on encouraging subscriptions from these users through targeted messaging or incentives. Since these users are already highly engaged, they might be more likely to subscribe with a little encouragement.\n",
    "<br />\n",
    "The content creator might need to conduct further analysis or A/B testing to validate these solutions."
   ]
  },
  {
   "cell_type": "markdown",
   "metadata": {},
   "source": [
    "<h5>Top positive/negative words/sentences in comments</h5>\n"
   ]
  },
  {
   "cell_type": "code",
   "execution_count": 23,
   "metadata": {},
   "outputs": [],
   "source": [
    "import nltk\n",
    "from nltk.sentiment.vader import SentimentIntensityAnalyzer\n",
    "\n",
    "df_comments['Comments'] = df_comments['Comments'].fillna('') \n",
    "\n",
    "def label_sentiment(text):\n",
    "    score = SentimentIntensityAnalyzer().polarity_scores(str(text))\n",
    "    neg = score[\"neg\"]\n",
    "    neu = score[\"neu\"]\n",
    "    pos = score[\"pos\"]\n",
    "    comp = score[\"compound\"]\n",
    "    if neg > pos:\n",
    "        return -neg\n",
    "    elif pos > neg:\n",
    "        return pos\n",
    "    return 0\n",
    "\n",
    "df_comments[\"sentiment\"] = df_comments['Comments'].apply(label_sentiment)\n"
   ]
  },
  {
   "cell_type": "code",
   "execution_count": 24,
   "metadata": {},
   "outputs": [
    {
     "name": "stdout",
     "output_type": "stream",
     "text": [
      "Positive: 9466, Negative: 774\n"
     ]
    }
   ],
   "source": [
    "# How many are positive and how many are negative?\n",
    "is_negative = (df_comments[\"sentiment\"] < 0)\n",
    "comments_positive = df_comments[~is_negative].loc[:,['Comment_ID','Comments','sentiment']]\n",
    "comments_negative = df_comments[is_negative].loc[:,['Comment_ID','Comments','sentiment']]\n",
    "print(f\"Positive: {len(comments_positive)}, Negative: {len(comments_negative)}\")"
   ]
  },
  {
   "cell_type": "code",
   "execution_count": 25,
   "metadata": {},
   "outputs": [
    {
     "data": {
      "text/html": [
       "<div>\n",
       "<style scoped>\n",
       "    .dataframe tbody tr th:only-of-type {\n",
       "        vertical-align: middle;\n",
       "    }\n",
       "\n",
       "    .dataframe tbody tr th {\n",
       "        vertical-align: top;\n",
       "    }\n",
       "\n",
       "    .dataframe thead th {\n",
       "        text-align: right;\n",
       "    }\n",
       "</style>\n",
       "<table border=\"1\" class=\"dataframe\">\n",
       "  <thead>\n",
       "    <tr style=\"text-align: right;\">\n",
       "      <th></th>\n",
       "      <th>Comment_ID</th>\n",
       "      <th>Comments</th>\n",
       "      <th>sentiment</th>\n",
       "    </tr>\n",
       "  </thead>\n",
       "  <tbody>\n",
       "    <tr>\n",
       "      <th>7971</th>\n",
       "      <td>UgylCwZbHzBDbZzttLB4AaABAg</td>\n",
       "      <td>Cool</td>\n",
       "      <td>1.0</td>\n",
       "    </tr>\n",
       "    <tr>\n",
       "      <th>7260</th>\n",
       "      <td>UgzN1pIh53QCr3zqZBh4AaABAg</td>\n",
       "      <td>Cool</td>\n",
       "      <td>1.0</td>\n",
       "    </tr>\n",
       "    <tr>\n",
       "      <th>9989</th>\n",
       "      <td>Ugz_hoxausuOrgdt3vF4AaABAg</td>\n",
       "      <td>Great!!</td>\n",
       "      <td>1.0</td>\n",
       "    </tr>\n",
       "    <tr>\n",
       "      <th>9166</th>\n",
       "      <td>UgwxEtJXcx6ZlmTgJqx4AaABAg</td>\n",
       "      <td>:)</td>\n",
       "      <td>1.0</td>\n",
       "    </tr>\n",
       "    <tr>\n",
       "      <th>1907</th>\n",
       "      <td>Ugx2xT33amruQfQcHw54AaABAg</td>\n",
       "      <td>nice</td>\n",
       "      <td>1.0</td>\n",
       "    </tr>\n",
       "    <tr>\n",
       "      <th>1908</th>\n",
       "      <td>UgxCKGSmoGMa2ir-eCF4AaABAg</td>\n",
       "      <td>woo!</td>\n",
       "      <td>1.0</td>\n",
       "    </tr>\n",
       "    <tr>\n",
       "      <th>4775</th>\n",
       "      <td>UgyheNQFgXq1rQIqKTJ4AaABAg</td>\n",
       "      <td>Excellent</td>\n",
       "      <td>1.0</td>\n",
       "    </tr>\n",
       "    <tr>\n",
       "      <th>6094</th>\n",
       "      <td>Ugxlm02P4gLiugKGse54AaABAg</td>\n",
       "      <td>Thanks</td>\n",
       "      <td>1.0</td>\n",
       "    </tr>\n",
       "    <tr>\n",
       "      <th>7352</th>\n",
       "      <td>UgyziXRXAqaDVQcaKDR4AaABAg</td>\n",
       "      <td>Thanks!</td>\n",
       "      <td>1.0</td>\n",
       "    </tr>\n",
       "    <tr>\n",
       "      <th>8637</th>\n",
       "      <td>Ugx3wSmwO-8tUYzAK0t4AaABAg</td>\n",
       "      <td>Awesome</td>\n",
       "      <td>1.0</td>\n",
       "    </tr>\n",
       "    <tr>\n",
       "      <th>8195</th>\n",
       "      <td>UgwHlfdmsBiDHWzIUsJ4AaABAg</td>\n",
       "      <td>Thanks</td>\n",
       "      <td>1.0</td>\n",
       "    </tr>\n",
       "    <tr>\n",
       "      <th>437</th>\n",
       "      <td>Ugxxi0k1UgK9fJUPfOV4AaABAg</td>\n",
       "      <td>Great 💯</td>\n",
       "      <td>1.0</td>\n",
       "    </tr>\n",
       "    <tr>\n",
       "      <th>8958</th>\n",
       "      <td>Ugza5058Q8oa1Zp5rxB4AaABAg</td>\n",
       "      <td>thanks!</td>\n",
       "      <td>1.0</td>\n",
       "    </tr>\n",
       "    <tr>\n",
       "      <th>7987</th>\n",
       "      <td>UgzFB6iRwFX-ZvEFe_14AaABAg</td>\n",
       "      <td>Solid</td>\n",
       "      <td>1.0</td>\n",
       "    </tr>\n",
       "    <tr>\n",
       "      <th>5999</th>\n",
       "      <td>UgzmzpDd5212JnNw7HB4AaABAg</td>\n",
       "      <td>Challenge accepted</td>\n",
       "      <td>1.0</td>\n",
       "    </tr>\n",
       "    <tr>\n",
       "      <th>2005</th>\n",
       "      <td>Ugw2AdGQrYtKJb3q3Al4AaABAg</td>\n",
       "      <td>Amazing 🙏</td>\n",
       "      <td>1.0</td>\n",
       "    </tr>\n",
       "    <tr>\n",
       "      <th>631</th>\n",
       "      <td>Ugyv28e22XuLV5OQP_Z4AaABAg</td>\n",
       "      <td>Thanks</td>\n",
       "      <td>1.0</td>\n",
       "    </tr>\n",
       "    <tr>\n",
       "      <th>4959</th>\n",
       "      <td>Ugypinb7oxkq-61gawx4AaABAg</td>\n",
       "      <td>Thanks 😊</td>\n",
       "      <td>1.0</td>\n",
       "    </tr>\n",
       "    <tr>\n",
       "      <th>1206</th>\n",
       "      <td>Ugzw2QI7eemyZr_FsJ54AaABAg</td>\n",
       "      <td>Solid. Ty</td>\n",
       "      <td>1.0</td>\n",
       "    </tr>\n",
       "    <tr>\n",
       "      <th>8243</th>\n",
       "      <td>UgzvRyhbDbnLBL3o6ix4AaABAg</td>\n",
       "      <td>Wow</td>\n",
       "      <td>1.0</td>\n",
       "    </tr>\n",
       "  </tbody>\n",
       "</table>\n",
       "</div>"
      ],
      "text/plain": [
       "                      Comment_ID            Comments  sentiment\n",
       "7971  UgylCwZbHzBDbZzttLB4AaABAg                Cool        1.0\n",
       "7260  UgzN1pIh53QCr3zqZBh4AaABAg                Cool        1.0\n",
       "9989  Ugz_hoxausuOrgdt3vF4AaABAg             Great!!        1.0\n",
       "9166  UgwxEtJXcx6ZlmTgJqx4AaABAg                  :)        1.0\n",
       "1907  Ugx2xT33amruQfQcHw54AaABAg                nice        1.0\n",
       "1908  UgxCKGSmoGMa2ir-eCF4AaABAg                woo!        1.0\n",
       "4775  UgyheNQFgXq1rQIqKTJ4AaABAg           Excellent        1.0\n",
       "6094  Ugxlm02P4gLiugKGse54AaABAg              Thanks        1.0\n",
       "7352  UgyziXRXAqaDVQcaKDR4AaABAg             Thanks!        1.0\n",
       "8637  Ugx3wSmwO-8tUYzAK0t4AaABAg             Awesome        1.0\n",
       "8195  UgwHlfdmsBiDHWzIUsJ4AaABAg              Thanks        1.0\n",
       "437   Ugxxi0k1UgK9fJUPfOV4AaABAg             Great 💯        1.0\n",
       "8958  Ugza5058Q8oa1Zp5rxB4AaABAg             thanks!        1.0\n",
       "7987  UgzFB6iRwFX-ZvEFe_14AaABAg               Solid        1.0\n",
       "5999  UgzmzpDd5212JnNw7HB4AaABAg  Challenge accepted        1.0\n",
       "2005  Ugw2AdGQrYtKJb3q3Al4AaABAg           Amazing 🙏        1.0\n",
       "631   Ugyv28e22XuLV5OQP_Z4AaABAg              Thanks        1.0\n",
       "4959  Ugypinb7oxkq-61gawx4AaABAg            Thanks 😊        1.0\n",
       "1206  Ugzw2QI7eemyZr_FsJ54AaABAg           Solid. Ty        1.0\n",
       "8243  UgzvRyhbDbnLBL3o6ix4AaABAg                 Wow        1.0"
      ]
     },
     "execution_count": 25,
     "metadata": {},
     "output_type": "execute_result"
    }
   ],
   "source": [
    "comments_positive.sort_values([\"sentiment\"],ascending=False,axis=0).head(20)"
   ]
  },
  {
   "cell_type": "code",
   "execution_count": 26,
   "metadata": {},
   "outputs": [
    {
     "data": {
      "text/html": [
       "<div>\n",
       "<style scoped>\n",
       "    .dataframe tbody tr th:only-of-type {\n",
       "        vertical-align: middle;\n",
       "    }\n",
       "\n",
       "    .dataframe tbody tr th {\n",
       "        vertical-align: top;\n",
       "    }\n",
       "\n",
       "    .dataframe thead th {\n",
       "        text-align: right;\n",
       "    }\n",
       "</style>\n",
       "<table border=\"1\" class=\"dataframe\">\n",
       "  <thead>\n",
       "    <tr style=\"text-align: right;\">\n",
       "      <th></th>\n",
       "      <th>Comment_ID</th>\n",
       "      <th>Comments</th>\n",
       "      <th>sentiment</th>\n",
       "    </tr>\n",
       "  </thead>\n",
       "  <tbody>\n",
       "    <tr>\n",
       "      <th>3195</th>\n",
       "      <td>UgyFKnT4yt4tICQ_Drt4AaABAg</td>\n",
       "      <td>Fight!</td>\n",
       "      <td>-1.000</td>\n",
       "    </tr>\n",
       "    <tr>\n",
       "      <th>76</th>\n",
       "      <td>Ugy-rljZ-DeN_y-mGNN4AaABAg</td>\n",
       "      <td>No</td>\n",
       "      <td>-1.000</td>\n",
       "    </tr>\n",
       "    <tr>\n",
       "      <th>1726</th>\n",
       "      <td>UgyhqOU93aFLiesQZv94AaABAg</td>\n",
       "      <td>Ignore the haters!</td>\n",
       "      <td>-0.857</td>\n",
       "    </tr>\n",
       "    <tr>\n",
       "      <th>9463</th>\n",
       "      <td>UgzI61hQm_wg85qcnhN4AaABAg</td>\n",
       "      <td>hell ya</td>\n",
       "      <td>-0.821</td>\n",
       "    </tr>\n",
       "    <tr>\n",
       "      <th>2036</th>\n",
       "      <td>UgzVQZcSYBqMdwahs814AaABAg</td>\n",
       "      <td>4:24 broken</td>\n",
       "      <td>-0.756</td>\n",
       "    </tr>\n",
       "    <tr>\n",
       "      <th>1162</th>\n",
       "      <td>Ugyfg_uGG6yZAsx3djd4AaABAg</td>\n",
       "      <td>Fire explanation!!</td>\n",
       "      <td>-0.749</td>\n",
       "    </tr>\n",
       "    <tr>\n",
       "      <th>4484</th>\n",
       "      <td>Ugx1TV35RsDElw5D1el4AaABAg</td>\n",
       "      <td>NOOOOOOOOOOOOO :(</td>\n",
       "      <td>-0.744</td>\n",
       "    </tr>\n",
       "    <tr>\n",
       "      <th>8541</th>\n",
       "      <td>Ugx-9vjWOQ_nyTJJ8TZ4AaABAg</td>\n",
       "      <td>Ridiculous mic. Completely useless.</td>\n",
       "      <td>-0.737</td>\n",
       "    </tr>\n",
       "    <tr>\n",
       "      <th>4744</th>\n",
       "      <td>UgzFoJGR3EPb98CyF0B4AaABAg</td>\n",
       "      <td>OH NO I MISSED IT!!!</td>\n",
       "      <td>-0.725</td>\n",
       "    </tr>\n",
       "    <tr>\n",
       "      <th>6320</th>\n",
       "      <td>Ugy4v_XIDzq1jzWQSlx4AaABAg</td>\n",
       "      <td>Why people dislike this? wtf</td>\n",
       "      <td>-0.703</td>\n",
       "    </tr>\n",
       "    <tr>\n",
       "      <th>4997</th>\n",
       "      <td>UgzOSjy4DbSo8tiAbVx4AaABAg</td>\n",
       "      <td>To kill a mockingbird 👍</td>\n",
       "      <td>-0.701</td>\n",
       "    </tr>\n",
       "    <tr>\n",
       "      <th>6573</th>\n",
       "      <td>UgyfAE6gA60NJ3byAOV4AaABAg</td>\n",
       "      <td>No sql</td>\n",
       "      <td>-0.688</td>\n",
       "    </tr>\n",
       "    <tr>\n",
       "      <th>660</th>\n",
       "      <td>Ugyne_qTab77GJmO6L94AaABAg</td>\n",
       "      <td>Why the hell would it die</td>\n",
       "      <td>-0.680</td>\n",
       "    </tr>\n",
       "    <tr>\n",
       "      <th>1811</th>\n",
       "      <td>Ugymd3d5gTgeqhsITi54AaABAg</td>\n",
       "      <td>Stay Hard!!</td>\n",
       "      <td>-0.665</td>\n",
       "    </tr>\n",
       "    <tr>\n",
       "      <th>667</th>\n",
       "      <td>UgxIxCYDey1Bww7FnDJ4AaABAg</td>\n",
       "      <td>Is death dying ?</td>\n",
       "      <td>-0.661</td>\n",
       "    </tr>\n",
       "    <tr>\n",
       "      <th>3672</th>\n",
       "      <td>Ugxl2v1gl2qhGHe6f-V4AaABAg</td>\n",
       "      <td>\"No papayas were harmed\" I guffawed</td>\n",
       "      <td>-0.639</td>\n",
       "    </tr>\n",
       "    <tr>\n",
       "      <th>54</th>\n",
       "      <td>UgyS7cu0oidH4hj6a2l4AaABAg</td>\n",
       "      <td>Bad audio quality</td>\n",
       "      <td>-0.636</td>\n",
       "    </tr>\n",
       "    <tr>\n",
       "      <th>3267</th>\n",
       "      <td>UgzJ5ZToOVYG7C5EB2Z4AaABAg</td>\n",
       "      <td>Link is broken!</td>\n",
       "      <td>-0.629</td>\n",
       "    </tr>\n",
       "    <tr>\n",
       "      <th>9333</th>\n",
       "      <td>UgyTo9Ui7j3k4o1RR5d4AaABAg</td>\n",
       "      <td>sick new intro</td>\n",
       "      <td>-0.623</td>\n",
       "    </tr>\n",
       "    <tr>\n",
       "      <th>5295</th>\n",
       "      <td>UgyAXiduiXFO7YANS_J4AaABAg</td>\n",
       "      <td>You guys killed this.</td>\n",
       "      <td>-0.600</td>\n",
       "    </tr>\n",
       "    <tr>\n",
       "      <th>85</th>\n",
       "      <td>UgxNbe7PNy1wrXVi3HV4AaABAg</td>\n",
       "      <td>this aint even a joke lol</td>\n",
       "      <td>-0.584</td>\n",
       "    </tr>\n",
       "    <tr>\n",
       "      <th>9013</th>\n",
       "      <td>UgwpTPBUzd7OMKPuMPx4AaABAg</td>\n",
       "      <td>damn. needed this.</td>\n",
       "      <td>-0.574</td>\n",
       "    </tr>\n",
       "    <tr>\n",
       "      <th>987</th>\n",
       "      <td>Ugza_9gycpnDKHvpiil4AaABAg</td>\n",
       "      <td>What's with these dumb clickbait titles? Disliked</td>\n",
       "      <td>-0.545</td>\n",
       "    </tr>\n",
       "    <tr>\n",
       "      <th>1210</th>\n",
       "      <td>UgxC4vKoCgQD7aj19gZ4AaABAg</td>\n",
       "      <td>I see no lie</td>\n",
       "      <td>-0.524</td>\n",
       "    </tr>\n",
       "    <tr>\n",
       "      <th>796</th>\n",
       "      <td>Ugz8h1IpdcmePU-MH7J4AaABAg</td>\n",
       "      <td>3rd step looks scary 😁</td>\n",
       "      <td>-0.516</td>\n",
       "    </tr>\n",
       "    <tr>\n",
       "      <th>649</th>\n",
       "      <td>Ugw7GqCtu2op6AAHHX94AaABAg</td>\n",
       "      <td>Whether  block chain technology kills data sci...</td>\n",
       "      <td>-0.516</td>\n",
       "    </tr>\n",
       "    <tr>\n",
       "      <th>5291</th>\n",
       "      <td>Ugy1manjlwz8qMyjURV4AaABAg</td>\n",
       "      <td>Fake, not arrogant enough ;)</td>\n",
       "      <td>-0.507</td>\n",
       "    </tr>\n",
       "    <tr>\n",
       "      <th>6130</th>\n",
       "      <td>Ugw4Px_FSM57YPF5ujN4AaABAg</td>\n",
       "      <td>Discord or slack channel?</td>\n",
       "      <td>-0.474</td>\n",
       "    </tr>\n",
       "    <tr>\n",
       "      <th>533</th>\n",
       "      <td>UgyrpXNMQz2jdT5pmHh4AaABAg</td>\n",
       "      <td>Link to the discord?</td>\n",
       "      <td>-0.474</td>\n",
       "    </tr>\n",
       "    <tr>\n",
       "      <th>988</th>\n",
       "      <td>UgzJ6APg9MKkO0SJLjF4AaABAg</td>\n",
       "      <td>I disliked this video because of the dumb clic...</td>\n",
       "      <td>-0.462</td>\n",
       "    </tr>\n",
       "    <tr>\n",
       "      <th>5078</th>\n",
       "      <td>Ugy7roTf5NZqqe3Wkh54AaABAg</td>\n",
       "      <td>Bloody well done mate!!</td>\n",
       "      <td>-0.459</td>\n",
       "    </tr>\n",
       "    <tr>\n",
       "      <th>1777</th>\n",
       "      <td>UgzrqvWE2GRuYEGq70F4AaABAg</td>\n",
       "      <td>Please. No bed on a background. It's gross.</td>\n",
       "      <td>-0.457</td>\n",
       "    </tr>\n",
       "    <tr>\n",
       "      <th>2336</th>\n",
       "      <td>UgwdSyLH7rVt_-eRxkp4AaABAg</td>\n",
       "      <td>Im a data manipulating panda 💤</td>\n",
       "      <td>-0.455</td>\n",
       "    </tr>\n",
       "    <tr>\n",
       "      <th>3565</th>\n",
       "      <td>UgyFIvTTtgki4qBfuSt4AaABAg</td>\n",
       "      <td>When you use very noisy and misleading feature</td>\n",
       "      <td>-0.452</td>\n",
       "    </tr>\n",
       "    <tr>\n",
       "      <th>9956</th>\n",
       "      <td>UgyE3Gq5Y_n6yXH1v9V4AaABAg</td>\n",
       "      <td>My biggest problem is communication. I'm very ...</td>\n",
       "      <td>-0.448</td>\n",
       "    </tr>\n",
       "    <tr>\n",
       "      <th>2909</th>\n",
       "      <td>UgwEXNqAXoAH3TokTIF4AaABAg</td>\n",
       "      <td>I miss the T-Rex 🦖</td>\n",
       "      <td>-0.444</td>\n",
       "    </tr>\n",
       "    <tr>\n",
       "      <th>7041</th>\n",
       "      <td>UgwJGuXIJHF8z7Lxt0R4AaABAg</td>\n",
       "      <td>The thumbnail is scary indeed 🤪</td>\n",
       "      <td>-0.444</td>\n",
       "    </tr>\n",
       "    <tr>\n",
       "      <th>554</th>\n",
       "      <td>UgwuXhMkRalaAb6x7Il4AaABAg</td>\n",
       "      <td>Peoples fear of A.I period.</td>\n",
       "      <td>-0.444</td>\n",
       "    </tr>\n",
       "    <tr>\n",
       "      <th>7589</th>\n",
       "      <td>UgxxePDtM71ZAhIK6Kd4AaABAg</td>\n",
       "      <td>Tired of python python but no internship yet.</td>\n",
       "      <td>-0.442</td>\n",
       "    </tr>\n",
       "    <tr>\n",
       "      <th>6360</th>\n",
       "      <td>UgyHCGb9umEN8d3miZF4AaABAg</td>\n",
       "      <td>Does the dislike button hurt or help creators?</td>\n",
       "      <td>-0.438</td>\n",
       "    </tr>\n",
       "    <tr>\n",
       "      <th>3001</th>\n",
       "      <td>Ugxvk8HJ_Ldl0vjLgSN4AaABAg</td>\n",
       "      <td>And the spamming begins now</td>\n",
       "      <td>-0.437</td>\n",
       "    </tr>\n",
       "    <tr>\n",
       "      <th>3491</th>\n",
       "      <td>UgzxhdhlUSaDKp545LR4AaABAg</td>\n",
       "      <td>The struggle is REAL</td>\n",
       "      <td>-0.434</td>\n",
       "    </tr>\n",
       "    <tr>\n",
       "      <th>29</th>\n",
       "      <td>UgypmuA-gsUaks3zrMN4AaABAg</td>\n",
       "      <td>A boring answer yet practical.</td>\n",
       "      <td>-0.434</td>\n",
       "    </tr>\n",
       "    <tr>\n",
       "      <th>503</th>\n",
       "      <td>Ugw-7vPaa3gOOcXqQz94AaABAg</td>\n",
       "      <td>The problem was too much trust in evil machines</td>\n",
       "      <td>-0.433</td>\n",
       "    </tr>\n",
       "    <tr>\n",
       "      <th>880</th>\n",
       "      <td>UgyNKVXvjjNhYS16FkV4AaABAg</td>\n",
       "      <td>Data science is such a cruel field.</td>\n",
       "      <td>-0.432</td>\n",
       "    </tr>\n",
       "    <tr>\n",
       "      <th>3784</th>\n",
       "      <td>UgweOoTSrYhAl49GZk54AaABAg</td>\n",
       "      <td>the process stops at: \"Progress: 0/15\". No err...</td>\n",
       "      <td>-0.426</td>\n",
       "    </tr>\n",
       "    <tr>\n",
       "      <th>4904</th>\n",
       "      <td>UgxI7HtVgLphbI-O6DB4AaABAg</td>\n",
       "      <td>0:00 - 0:28 david blaine MIND FREAK</td>\n",
       "      <td>-0.421</td>\n",
       "    </tr>\n",
       "    <tr>\n",
       "      <th>2983</th>\n",
       "      <td>UgxYUQSw9JXoXrnC8ah4AaABAg</td>\n",
       "      <td>Mate You are Discouraging me 😒</td>\n",
       "      <td>-0.420</td>\n",
       "    </tr>\n",
       "    <tr>\n",
       "      <th>47</th>\n",
       "      <td>UgwotONA2wZYpov-mKt4AaABAg</td>\n",
       "      <td>Tell me this position is bad while repeatedly ...</td>\n",
       "      <td>-0.417</td>\n",
       "    </tr>\n",
       "    <tr>\n",
       "      <th>2659</th>\n",
       "      <td>Ugyz_vcrpEUObjvyXFR4AaABAg</td>\n",
       "      <td>I'm starting today let's do this shit</td>\n",
       "      <td>-0.415</td>\n",
       "    </tr>\n",
       "  </tbody>\n",
       "</table>\n",
       "</div>"
      ],
      "text/plain": [
       "                      Comment_ID  \\\n",
       "3195  UgyFKnT4yt4tICQ_Drt4AaABAg   \n",
       "76    Ugy-rljZ-DeN_y-mGNN4AaABAg   \n",
       "1726  UgyhqOU93aFLiesQZv94AaABAg   \n",
       "9463  UgzI61hQm_wg85qcnhN4AaABAg   \n",
       "2036  UgzVQZcSYBqMdwahs814AaABAg   \n",
       "1162  Ugyfg_uGG6yZAsx3djd4AaABAg   \n",
       "4484  Ugx1TV35RsDElw5D1el4AaABAg   \n",
       "8541  Ugx-9vjWOQ_nyTJJ8TZ4AaABAg   \n",
       "4744  UgzFoJGR3EPb98CyF0B4AaABAg   \n",
       "6320  Ugy4v_XIDzq1jzWQSlx4AaABAg   \n",
       "4997  UgzOSjy4DbSo8tiAbVx4AaABAg   \n",
       "6573  UgyfAE6gA60NJ3byAOV4AaABAg   \n",
       "660   Ugyne_qTab77GJmO6L94AaABAg   \n",
       "1811  Ugymd3d5gTgeqhsITi54AaABAg   \n",
       "667   UgxIxCYDey1Bww7FnDJ4AaABAg   \n",
       "3672  Ugxl2v1gl2qhGHe6f-V4AaABAg   \n",
       "54    UgyS7cu0oidH4hj6a2l4AaABAg   \n",
       "3267  UgzJ5ZToOVYG7C5EB2Z4AaABAg   \n",
       "9333  UgyTo9Ui7j3k4o1RR5d4AaABAg   \n",
       "5295  UgyAXiduiXFO7YANS_J4AaABAg   \n",
       "85    UgxNbe7PNy1wrXVi3HV4AaABAg   \n",
       "9013  UgwpTPBUzd7OMKPuMPx4AaABAg   \n",
       "987   Ugza_9gycpnDKHvpiil4AaABAg   \n",
       "1210  UgxC4vKoCgQD7aj19gZ4AaABAg   \n",
       "796   Ugz8h1IpdcmePU-MH7J4AaABAg   \n",
       "649   Ugw7GqCtu2op6AAHHX94AaABAg   \n",
       "5291  Ugy1manjlwz8qMyjURV4AaABAg   \n",
       "6130  Ugw4Px_FSM57YPF5ujN4AaABAg   \n",
       "533   UgyrpXNMQz2jdT5pmHh4AaABAg   \n",
       "988   UgzJ6APg9MKkO0SJLjF4AaABAg   \n",
       "5078  Ugy7roTf5NZqqe3Wkh54AaABAg   \n",
       "1777  UgzrqvWE2GRuYEGq70F4AaABAg   \n",
       "2336  UgwdSyLH7rVt_-eRxkp4AaABAg   \n",
       "3565  UgyFIvTTtgki4qBfuSt4AaABAg   \n",
       "9956  UgyE3Gq5Y_n6yXH1v9V4AaABAg   \n",
       "2909  UgwEXNqAXoAH3TokTIF4AaABAg   \n",
       "7041  UgwJGuXIJHF8z7Lxt0R4AaABAg   \n",
       "554   UgwuXhMkRalaAb6x7Il4AaABAg   \n",
       "7589  UgxxePDtM71ZAhIK6Kd4AaABAg   \n",
       "6360  UgyHCGb9umEN8d3miZF4AaABAg   \n",
       "3001  Ugxvk8HJ_Ldl0vjLgSN4AaABAg   \n",
       "3491  UgzxhdhlUSaDKp545LR4AaABAg   \n",
       "29    UgypmuA-gsUaks3zrMN4AaABAg   \n",
       "503   Ugw-7vPaa3gOOcXqQz94AaABAg   \n",
       "880   UgyNKVXvjjNhYS16FkV4AaABAg   \n",
       "3784  UgweOoTSrYhAl49GZk54AaABAg   \n",
       "4904  UgxI7HtVgLphbI-O6DB4AaABAg   \n",
       "2983  UgxYUQSw9JXoXrnC8ah4AaABAg   \n",
       "47    UgwotONA2wZYpov-mKt4AaABAg   \n",
       "2659  Ugyz_vcrpEUObjvyXFR4AaABAg   \n",
       "\n",
       "                                               Comments  sentiment  \n",
       "3195                                             Fight!     -1.000  \n",
       "76                                                   No     -1.000  \n",
       "1726                                 Ignore the haters!     -0.857  \n",
       "9463                                            hell ya     -0.821  \n",
       "2036                                        4:24 broken     -0.756  \n",
       "1162                                 Fire explanation!!     -0.749  \n",
       "4484                                  NOOOOOOOOOOOOO :(     -0.744  \n",
       "8541                Ridiculous mic. Completely useless.     -0.737  \n",
       "4744                               OH NO I MISSED IT!!!     -0.725  \n",
       "6320                       Why people dislike this? wtf     -0.703  \n",
       "4997                            To kill a mockingbird 👍     -0.701  \n",
       "6573                                             No sql     -0.688  \n",
       "660                           Why the hell would it die     -0.680  \n",
       "1811                                        Stay Hard!!     -0.665  \n",
       "667                                    Is death dying ?     -0.661  \n",
       "3672                \"No papayas were harmed\" I guffawed     -0.639  \n",
       "54                                    Bad audio quality     -0.636  \n",
       "3267                                    Link is broken!     -0.629  \n",
       "9333                                     sick new intro     -0.623  \n",
       "5295                              You guys killed this.     -0.600  \n",
       "85                            this aint even a joke lol     -0.584  \n",
       "9013                                 damn. needed this.     -0.574  \n",
       "987   What's with these dumb clickbait titles? Disliked     -0.545  \n",
       "1210                                       I see no lie     -0.524  \n",
       "796                              3rd step looks scary 😁     -0.516  \n",
       "649   Whether  block chain technology kills data sci...     -0.516  \n",
       "5291                       Fake, not arrogant enough ;)     -0.507  \n",
       "6130                          Discord or slack channel?     -0.474  \n",
       "533                                Link to the discord?     -0.474  \n",
       "988   I disliked this video because of the dumb clic...     -0.462  \n",
       "5078                            Bloody well done mate!!     -0.459  \n",
       "1777        Please. No bed on a background. It's gross.     -0.457  \n",
       "2336                     Im a data manipulating panda 💤     -0.455  \n",
       "3565     When you use very noisy and misleading feature     -0.452  \n",
       "9956  My biggest problem is communication. I'm very ...     -0.448  \n",
       "2909                                 I miss the T-Rex 🦖     -0.444  \n",
       "7041                    The thumbnail is scary indeed 🤪     -0.444  \n",
       "554                         Peoples fear of A.I period.     -0.444  \n",
       "7589      Tired of python python but no internship yet.     -0.442  \n",
       "6360     Does the dislike button hurt or help creators?     -0.438  \n",
       "3001                        And the spamming begins now     -0.437  \n",
       "3491                               The struggle is REAL     -0.434  \n",
       "29                       A boring answer yet practical.     -0.434  \n",
       "503     The problem was too much trust in evil machines     -0.433  \n",
       "880                 Data science is such a cruel field.     -0.432  \n",
       "3784  the process stops at: \"Progress: 0/15\". No err...     -0.426  \n",
       "4904                0:00 - 0:28 david blaine MIND FREAK     -0.421  \n",
       "2983                     Mate You are Discouraging me 😒     -0.420  \n",
       "47    Tell me this position is bad while repeatedly ...     -0.417  \n",
       "2659              I'm starting today let's do this shit     -0.415  "
      ]
     },
     "execution_count": 26,
     "metadata": {},
     "output_type": "execute_result"
    }
   ],
   "source": [
    "# Let's see the most negative comments\n",
    "negative = comments_negative.sort_values([\"sentiment\"],ascending=True,axis=0)\n",
    "negative.head(50)"
   ]
  },
  {
   "cell_type": "markdown",
   "metadata": {},
   "source": [
    "There were  9466 positive comments thanking him for creating content which helped them to gain knowledge from it.<br />\n",
    "There were 774 negative comments focusing on user complaints mainly about\n",
    "1. Audio quality\n",
    "2. Thumbnails\n",
    "3. Errors\n",
    "4. Content is not strong enough for users<br />\n",
    "This can be improved by using better thumbnails and improving the audio quality,showing the errors  you have encounterd while creating the project and methods you used to solve those errors. eg: using ChatGPT to analyze the error and to find the solution for it."
   ]
  },
  {
   "cell_type": "markdown",
   "metadata": {},
   "source": [
    "<h5>Factors contributing to fluctuations in the profitability of Ken Jee's YouTube channel over time</h5>"
   ]
  },
  {
   "cell_type": "code",
   "execution_count": 32,
   "metadata": {},
   "outputs": [
    {
     "data": {
      "image/png": "[encoded data removed]",
      "text/plain": [
       "<Figure size 1000x800 with 2 Axes>"
      ]
     },
     "metadata": {},
     "output_type": "display_data"
    }
   ],
   "source": [
    "import seaborn as sns\n",
    "attributes = ['Views', 'Video Likes Added', 'Video Dislikes Added', \n",
    "              'Video Likes Removed', 'User Subscriptions Added', \n",
    "              'User Subscriptions Removed', 'Average View Percentage', \n",
    "              'Average Watch Time', 'User Comments Added']\n",
    "\n",
    "# Compute correlation matrix\n",
    "correlation_matrix = df_video_over_time[attributes].corr()\n",
    "\n",
    "# Visualize correlation matrix as a heatmap\n",
    "plt.figure(figsize=(10, 8))\n",
    "sns.heatmap(correlation_matrix, annot=True, cmap='coolwarm', fmt=\".2f\")\n",
    "plt.title('Correlation Matrix of Attributes')\n",
    "plt.show()\n"
   ]
  },
  {
   "cell_type": "markdown",
   "metadata": {},
   "source": [
    "The key areas required to focus:<br />\n",
    "1.Engage with Your Audience:<br />The correlation between user comments and other metrics may not be very high, but audience engagement is still crucial. Responding to comments, asking for feedback, and creating a community around your content can help increase viewer loyalty and engagement.<br />\n",
    "2.Monitor Video Likes and Dislikes:<br />Keep an eye on the likes and dislikes on your videos. A high number of dislikes relative to likes could indicate that the content is not resonating with your audience, and you may need to adjust your content strategy accordingly.<br />\n",
    "3.Improve Average View Percentage and Watch Time:<br /> Although these metrics showed low correlations with others, they are important for YouTube’s recommendation algorithm. Try to create engaging content that keeps viewers watching for longer. This could involve experimenting with different video lengths, structures, or topics.<br /><br />\n",
    "It’s important to consider other factors such as your target audience, content strategy, and personal goals for the channel. Also, continually testing and learning from your analytics data will help you make more informed decisions and improve your channel over time."
   ]
  },
  {
   "cell_type": "markdown",
   "metadata": {},
   "source": [
    "To increase the profits of Ken Jee's YouTube channel, we can conduct some further analysis:\n",
    "1. Drive audience growth through targeted marketing efforts, collaborations with fellow creators, and strategic utilization of social media platforms to amplify content reach and engagement.\n",
    "2. Cultivate collaborations and partnerships with influencers and brands within Ken Jee's niche, leveraging synergies to extend channel exposure and attract new viewer segments.\n",
    "3. Conduct ongoing performance monitoring, analyzing key metrics, and adapting strategies iteratively to seize emerging opportunities and mitigate challenges, ensuring sustained channel growth and profitability.\n",
    "4. Optimization of SEO and Metadata: Ensure that video titles, descriptions, and tags are optimized for search engines to improve discoverability and reach a larger audience.\n",
    "5. Collaborations and Partnerships: Explore opportunities for collaborations with other creators or brands within Ken Jee's niche to increase exposure and reach new audiences.\n",
    "\n",
    "\n",
    "\n",
    "\n",
    "\n",
    "\n"
   ]
  },
  {
   "cell_type": "markdown",
   "metadata": {},
   "source": [
    "<h5>Conclusion</h5>\n",
    "<ol>\n",
    "<li>Videos generated the highest revenue in terms of RPM and CPM:</li>\n",
    "<ul>\n",
    "<li>The analysis shows the growth of RPM and CPM over time, with significant peaks observed, especially in early 2018.</li>\n",
    "<li>By identifying peak times for viewer activity (midnight on Fridays), Ken Jee can strategically schedule video uploads to maximize initial views and engagement.</li>\n",
    "<li>The word cloud analysis highlights topics that resonate with the audience, such as Data Science, Machine Learning, Python, and Projects. Ken Jee can capitalize on these interests by creating more content around these themes.</li>\n",
    "</ul>\n",
    "<li>K-means clustering to analyze factors affecting the channel:</li><ul>\n",
    "<li>Clustering analysis identifies three distinct user segments based on average watch time and subscription behavior.</li>\n",
    "<li>Recommendations are provided for each cluster to optimize content strategy and subscription conversion rates.</li>\n",
    "<li>Further A/B testing and analysis may be needed to validate these recommendations and refine content strategies accordingly.</li></ul>\n",
    "<li>Top positive/negative words/sentences in comments:</li>\n",
    "<ul>\n",
    "<li>The analysis identifies a significant number of positive comments expressing gratitude for the content.</li>\n",
    "<li>Negative comments mainly focus on audio quality, thumbnails, errors, and content strength.</li>\n",
    "<li>Suggestions are provided to address negative feedback, such as improving thumbnails, audio quality, and addressing errors transparently in content.</li></ul>\n",
    "<li>Factors contributing to fluctuations in profitability:</li>\n",
    "<ul><li>Engaging with the audience, monitoring likes/dislikes, and improving average view percentage and watch time are highlighted as key areas for optimization.</li>\n",
    "<li>While correlations between some metrics may be low, focusing on these factors can improve overall viewer satisfaction and channel performance.</li></ul>\n",
    "</ol>"
   ]
  },
  {
   "cell_type": "code",
   "execution_count": null,
   "metadata": {},
   "outputs": [],
   "source": []
  }
 ],
 "metadata": {
  "kernelspec": {
   "display_name": "venv",
   "language": "python",
   "name": "python3"
  },
  "language_info": {
   "codemirror_mode": {
    "name": "ipython",
    "version": 3
   },
   "file_extension": ".py",
   "mimetype": "text/x-python",
   "name": "python",
   "nbconvert_exporter": "python",
   "pygments_lexer": "ipython3",
   "version": "3.11.5"
  }
 },
 "nbformat": 4,
 "nbformat_minor": 2
}
